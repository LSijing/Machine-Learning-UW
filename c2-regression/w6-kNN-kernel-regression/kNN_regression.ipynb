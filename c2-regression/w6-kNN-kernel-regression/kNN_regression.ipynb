{
 "cells": [
  {
   "cell_type": "code",
   "execution_count": 1,
   "metadata": {},
   "outputs": [],
   "source": [
    "dtype_dict = {'bathrooms':float, 'waterfront':int, 'sqft_above':int, 'sqft_living15':float, 'grade':int,\n",
    "              'yr_renovated':int, 'price':float, 'bedrooms':float, 'zipcode':str, 'long':float, \n",
    "              'sqft_lot15':float, 'sqft_living':float, 'floors':float, 'condition':int, 'lat':float, \n",
    "              'date':str, 'sqft_basement':int, 'yr_built':int, 'id':str, 'sqft_lot':int, 'view':int}"
   ]
  },
  {
   "cell_type": "code",
   "execution_count": 2,
   "metadata": {},
   "outputs": [],
   "source": [
    "import pandas as pd\n",
    "import numpy as np"
   ]
  },
  {
   "cell_type": "code",
   "execution_count": 3,
   "metadata": {},
   "outputs": [],
   "source": [
    "def get_numpy_data(data_frame, features:list, output:str):\n",
    "    lst = ['constant']\n",
    "    data_frame['constant'] = 1\n",
    "    lst.extend(features)\n",
    "    feature_matrix = data_frame[lst].to_numpy()\n",
    "    output = data_frame[output].to_numpy()\n",
    "    return feature_matrix, output"
   ]
  },
  {
   "cell_type": "code",
   "execution_count": 4,
   "metadata": {},
   "outputs": [],
   "source": [
    "def normalize_features(features):\n",
    "    norms = np.linalg.norm(features, axis=0)\n",
    "    new_features = features / norms\n",
    "    return new_features, norms"
   ]
  },
  {
   "cell_type": "code",
   "execution_count": 5,
   "metadata": {},
   "outputs": [],
   "source": [
    "feature_list = ['bedrooms',  \n",
    "                'bathrooms',  \n",
    "                'sqft_living',  \n",
    "                'sqft_lot',  \n",
    "                'floors',\n",
    "                'waterfront',  \n",
    "                'view',  \n",
    "                'condition',  \n",
    "                'grade',  \n",
    "                'sqft_above',  \n",
    "                'sqft_basement',\n",
    "                'yr_built',  \n",
    "                'yr_renovated',  \n",
    "                'lat',  \n",
    "                'long',  \n",
    "                'sqft_living15',  \n",
    "                'sqft_lot15']\n",
    "training = pd.read_csv('kc_house_data_small_train.csv', dtype=dtype_dict)\n",
    "validation = pd.read_csv('kc_house_data_validation.csv', dtype=dtype_dict)\n",
    "test = pd.read_csv('kc_house_data_small_test.csv', dtype=dtype_dict)\n",
    "train_features, train_output = get_numpy_data(training, feature_list, 'price')\n",
    "valid_features, valid_output = get_numpy_data(validation, feature_list, 'price')\n",
    "test_features, test_output = get_numpy_data(test, feature_list, 'price')\n",
    "train_features, norms = normalize_features(train_features)\n",
    "test_features = test_features / norms\n",
    "valid_features = valid_features / norms"
   ]
  },
  {
   "cell_type": "markdown",
   "metadata": {},
   "source": [
    "# Euclidean distance"
   ]
  },
  {
   "cell_type": "code",
   "execution_count": 8,
   "metadata": {},
   "outputs": [
    {
     "name": "stdout",
     "output_type": "stream",
     "text": [
      "[ 0.01345102  0.01551285  0.01807473  0.01759212  0.00160518  0.017059\n",
      "  0.          0.05102365  0.0116321   0.01564352  0.01362084  0.02481682\n",
      "  0.01350306  0.          0.01345387 -0.01346922  0.01375926  0.0016225 ]\n",
      "[ 0.01345102  0.01163464  0.00602491  0.0083488   0.00050756  0.01279425\n",
      "  0.          0.          0.01938684  0.01390535  0.0096309   0.\n",
      "  0.01302544  0.          0.01346821 -0.01346251  0.01195898  0.00156612]\n",
      "distance= 0.05972359371398078\n"
     ]
    }
   ],
   "source": [
    "print(test_features[0])\n",
    "print(train_features[9])\n",
    "print('distance=', np.sqrt(np.sum( (test_features[0] - train_features[9])**2 ) ) )"
   ]
  },
  {
   "cell_type": "code",
   "execution_count": 9,
   "metadata": {},
   "outputs": [
    {
     "name": "stdout",
     "output_type": "stream",
     "text": [
      "0 0.06027470916295592\n",
      "1 0.08546881147643746\n",
      "2 0.06149946435279315\n",
      "3 0.05340273979294363\n",
      "4 0.05844484060170442\n",
      "5 0.059879215098128345\n",
      "6 0.05463140496775461\n",
      "7 0.055431083236146074\n",
      "8 0.052383627840220305\n",
      "9 0.05972359371398078\n"
     ]
    }
   ],
   "source": [
    "for i in range(10):\n",
    "    print(i, np.sqrt(np.sum( (train_features[i] - test_features[0])**2)) )"
   ]
  },
  {
   "cell_type": "code",
   "execution_count": 10,
   "metadata": {},
   "outputs": [
    {
     "name": "stdout",
     "output_type": "stream",
     "text": [
      "[0. 0. 0. 0. 0. 0. 0. 0. 0. 0. 0. 0. 0. 0. 0. 0. 0. 0.]\n",
      "[0. 0. 0. 0. 0. 0. 0. 0. 0. 0. 0. 0. 0. 0. 0. 0. 0. 0.]\n",
      "[0. 0. 0. 0. 0. 0. 0. 0. 0. 0. 0. 0. 0. 0. 0. 0. 0. 0.]\n"
     ]
    }
   ],
   "source": [
    "results = train_features[0:3] - test_features[0]\n",
    "for i in range(3):\n",
    "    print( results[i] - (train_features[i] - test_features[0]) )"
   ]
  },
  {
   "cell_type": "markdown",
   "metadata": {},
   "source": [
    "# 1-NN regression"
   ]
  },
  {
   "cell_type": "code",
   "execution_count": 11,
   "metadata": {},
   "outputs": [
    {
     "name": "stdout",
     "output_type": "stream",
     "text": [
      "-0.09343399874654643\n"
     ]
    }
   ],
   "source": [
    "diff = train_features - test_features[0]\n",
    "print(diff[-1].sum())"
   ]
  },
  {
   "cell_type": "code",
   "execution_count": 12,
   "metadata": {},
   "outputs": [
    {
     "name": "stdout",
     "output_type": "stream",
     "text": [
      "0.0033070590284564457\n",
      "0.0033070590284564453\n"
     ]
    }
   ],
   "source": [
    "print(np.sum(diff ** 2, axis=1)[15])\n",
    "print(np.sum(diff[15]**2))"
   ]
  },
  {
   "cell_type": "code",
   "execution_count": 13,
   "metadata": {},
   "outputs": [],
   "source": [
    "def compute_distances(features, features_query):\n",
    "    diff = features - features_query\n",
    "    dist = np.sqrt(np.sum(diff ** 2, axis=1))\n",
    "    return dist"
   ]
  },
  {
   "cell_type": "code",
   "execution_count": 14,
   "metadata": {},
   "outputs": [
    {
     "name": "stdout",
     "output_type": "stream",
     "text": [
      "249000.0\n",
      "382\n"
     ]
    }
   ],
   "source": [
    "dist = compute_distances(train_features, test_features[2])\n",
    "nnindex = min(range(len(dist)), key= lambda i:dist[i])\n",
    "print(train_output[nnindex])\n",
    "print(nnindex)"
   ]
  },
  {
   "cell_type": "markdown",
   "metadata": {},
   "source": [
    "# k-NN regression"
   ]
  },
  {
   "cell_type": "code",
   "execution_count": 15,
   "metadata": {},
   "outputs": [],
   "source": [
    "def knn(k, train_feature_matrix, query_feature):\n",
    "    dist = compute_distances(train_feature_matrix, query_feature)\n",
    "    sorted_index = sorted(range(len(dist)), key= lambda i: dist[i])\n",
    "    return sorted_index[0:k]"
   ]
  },
  {
   "cell_type": "code",
   "execution_count": 16,
   "metadata": {},
   "outputs": [],
   "source": [
    "def predict_knn(k ,train_feature_matrix, train_output, query_feature):\n",
    "    indices = knn(k, train_feature_matrix, query_feature)\n",
    "    outputs = train_output[indices]\n",
    "    return indices,np.mean(outputs)"
   ]
  },
  {
   "cell_type": "code",
   "execution_count": 19,
   "metadata": {},
   "outputs": [
    {
     "data": {
      "text/plain": [
       "([382, 1149, 4087, 3142], 413987.5)"
      ]
     },
     "execution_count": 19,
     "metadata": {},
     "output_type": "execute_result"
    }
   ],
   "source": [
    "predict_knn(4, train_features, train_output, test_features[2])"
   ]
  },
  {
   "cell_type": "code",
   "execution_count": 20,
   "metadata": {},
   "outputs": [
    {
     "name": "stdout",
     "output_type": "stream",
     "text": [
      "6 350032.0\n"
     ]
    }
   ],
   "source": [
    "price_bar = []\n",
    "for i in range(10):\n",
    "    _,pr = predict_knn(10, train_features, train_output, test_features[i])\n",
    "    price_bar.append(pr)\n",
    "idx = min(range(10), key= lambda i:price_bar[i])\n",
    "print(idx, price_bar[idx])"
   ]
  },
  {
   "cell_type": "markdown",
   "metadata": {},
   "source": [
    "# choose optimal k value"
   ]
  },
  {
   "cell_type": "code",
   "execution_count": 21,
   "metadata": {},
   "outputs": [
    {
     "name": "stdout",
     "output_type": "stream",
     "text": [
      "1 1.0545e+14\n",
      "2 8.3445e+13\n",
      "3 7.2692e+13\n",
      "4 7.1935e+13\n",
      "5 6.9847e+13\n",
      "6 6.8903e+13\n",
      "7 6.8338e+13\n",
      "8 6.7362e+13\n",
      "9 6.8373e+13\n",
      "10 6.9334e+13\n",
      "11 6.9524e+13\n",
      "12 6.9052e+13\n",
      "13 7.0011e+13\n",
      "14 7.0912e+13\n",
      "15 7.1109e+13\n"
     ]
    }
   ],
   "source": [
    "K = list(range(1,16))\n",
    "rss = []\n",
    "for k in K:\n",
    "    pred_error = []\n",
    "    for i in range(valid_features.shape[0]):\n",
    "        _,pr = predict_knn(k, train_features, train_output, valid_features[i])\n",
    "        pred_error.append(pr-valid_output[i])\n",
    "    rss.append( np.sum(np.array(pred_error)**2))\n",
    "    print(k, '%.4e'%rss[-1])"
   ]
  },
  {
   "cell_type": "code",
   "execution_count": 22,
   "metadata": {},
   "outputs": [
    {
     "name": "stdout",
     "output_type": "stream",
     "text": [
      "8\n"
     ]
    }
   ],
   "source": [
    "best_k = K[min(range(15), key=lambda i: rss[i])]\n",
    "print(best_k)"
   ]
  },
  {
   "cell_type": "code",
   "execution_count": 23,
   "metadata": {},
   "outputs": [
    {
     "name": "stdout",
     "output_type": "stream",
     "text": [
      "1741\n",
      "8 1.3309e+14\n"
     ]
    }
   ],
   "source": [
    "pred_error = []\n",
    "print(test_features.shape[0])\n",
    "for i in range(test_features.shape[0]):\n",
    "    _,pr = predict_knn(best_k, train_features, train_output, test_features[i])\n",
    "    pred_error.append(pr- test_output[i])\n",
    "rss = np.sum(np.array(pred_error)**2)\n",
    "print(best_k, '%.4e'%rss)"
   ]
  },
  {
   "cell_type": "code",
   "execution_count": null,
   "metadata": {},
   "outputs": [],
   "source": []
  }
 ],
 "metadata": {
  "kernelspec": {
   "display_name": "Python 3",
   "language": "python",
   "name": "python3"
  },
  "language_info": {
   "codemirror_mode": {
    "name": "ipython",
    "version": 3
   },
   "file_extension": ".py",
   "mimetype": "text/x-python",
   "name": "python",
   "nbconvert_exporter": "python",
   "pygments_lexer": "ipython3",
   "version": "3.7.7"
  }
 },
 "nbformat": 4,
 "nbformat_minor": 4
}
