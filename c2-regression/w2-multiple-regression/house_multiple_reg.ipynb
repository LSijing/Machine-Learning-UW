{
 "cells": [
  {
   "cell_type": "code",
   "execution_count": 1,
   "metadata": {},
   "outputs": [],
   "source": [
    "import pandas as pd\n",
    "import numpy as np\n",
    "from sklearn.linear_model import LinearRegression"
   ]
  },
  {
   "cell_type": "code",
   "execution_count": 2,
   "metadata": {},
   "outputs": [],
   "source": [
    "train_data = pd.read_csv('kc_house_train_data.csv/kc_house_train_data.csv')\n",
    "test_data = pd.read_csv('kc_house_test_data.csv/kc_house_test_data.csv')"
   ]
  },
  {
   "cell_type": "code",
   "execution_count": 3,
   "metadata": {},
   "outputs": [
    {
     "data": {
      "text/plain": [
       "Index(['id', 'date', 'price', 'bedrooms', 'bathrooms', 'sqft_living',\n",
       "       'sqft_lot', 'floors', 'waterfront', 'view', 'condition', 'grade',\n",
       "       'sqft_above', 'sqft_basement', 'yr_built', 'yr_renovated', 'zipcode',\n",
       "       'lat', 'long', 'sqft_living15', 'sqft_lot15'],\n",
       "      dtype='object')"
      ]
     },
     "execution_count": 3,
     "metadata": {},
     "output_type": "execute_result"
    }
   ],
   "source": [
    "train_data.columns"
   ]
  },
  {
   "cell_type": "markdown",
   "metadata": {},
   "source": [
    "# process data"
   ]
  },
  {
   "cell_type": "code",
   "execution_count": 4,
   "metadata": {},
   "outputs": [],
   "source": [
    "def add_features(data):\n",
    "    data['bedrooms_squared'] = data['bedrooms'] ** 2\n",
    "    data['bed_bath_rooms'] = data['bedrooms'] * data['bathrooms']\n",
    "    data['log_sqft_living'] = np.log(data['sqft_living'])\n",
    "    data['lat_plus_long'] = data['lat'] + data['long']\n",
    "    return data"
   ]
  },
  {
   "cell_type": "code",
   "execution_count": 5,
   "metadata": {},
   "outputs": [],
   "source": [
    "train_data = add_features(train_data)\n",
    "test_data = add_features(test_data)"
   ]
  },
  {
   "cell_type": "code",
   "execution_count": 6,
   "metadata": {},
   "outputs": [
    {
     "data": {
      "text/plain": [
       "Index(['id', 'date', 'price', 'bedrooms', 'bathrooms', 'sqft_living',\n",
       "       'sqft_lot', 'floors', 'waterfront', 'view', 'condition', 'grade',\n",
       "       'sqft_above', 'sqft_basement', 'yr_built', 'yr_renovated', 'zipcode',\n",
       "       'lat', 'long', 'sqft_living15', 'sqft_lot15', 'bedrooms_squared',\n",
       "       'bed_bath_rooms', 'log_sqft_living', 'lat_plus_long'],\n",
       "      dtype='object')"
      ]
     },
     "execution_count": 6,
     "metadata": {},
     "output_type": "execute_result"
    }
   ],
   "source": [
    "train_data.columns"
   ]
  },
  {
   "cell_type": "code",
   "execution_count": 7,
   "metadata": {},
   "outputs": [
    {
     "data": {
      "text/plain": [
       "Index(['id', 'date', 'price', 'bedrooms', 'bathrooms', 'sqft_living',\n",
       "       'sqft_lot', 'floors', 'waterfront', 'view', 'condition', 'grade',\n",
       "       'sqft_above', 'sqft_basement', 'yr_built', 'yr_renovated', 'zipcode',\n",
       "       'lat', 'long', 'sqft_living15', 'sqft_lot15', 'bedrooms_squared',\n",
       "       'bed_bath_rooms', 'log_sqft_living', 'lat_plus_long'],\n",
       "      dtype='object')"
      ]
     },
     "execution_count": 7,
     "metadata": {},
     "output_type": "execute_result"
    }
   ],
   "source": [
    "test_data.columns"
   ]
  },
  {
   "cell_type": "code",
   "execution_count": 8,
   "metadata": {},
   "outputs": [
    {
     "name": "stdout",
     "output_type": "stream",
     "text": [
      "12.45 7.50 7.55 -74.65\n"
     ]
    }
   ],
   "source": [
    "print('%.2f %.2f %.2f %.2f'%(test_data['bedrooms_squared'].mean(), test_data['bed_bath_rooms'].mean(), \n",
    "      test_data['log_sqft_living'].mean(), test_data['lat_plus_long'].mean()))"
   ]
  },
  {
   "cell_type": "markdown",
   "metadata": {},
   "source": [
    "# fit three models"
   ]
  },
  {
   "cell_type": "code",
   "execution_count": 9,
   "metadata": {},
   "outputs": [
    {
     "name": "stdout",
     "output_type": "stream",
     "text": [
      "-69075726.79256982 [ 3.12258646e+02 -5.95865332e+04  1.57067421e+04  6.58619264e+05\n",
      " -3.09374351e+05]\n"
     ]
    }
   ],
   "source": [
    "x1 = train_data[['sqft_living','bedrooms','bathrooms','lat','long']]\n",
    "model1 = LinearRegression()\n",
    "model1.fit(x1,train_data['price'])\n",
    "print(model1.intercept_, model1.coef_)"
   ]
  },
  {
   "cell_type": "code",
   "execution_count": 10,
   "metadata": {},
   "outputs": [
    {
     "name": "stdout",
     "output_type": "stream",
     "text": [
      "-66867968.87107886 [ 3.06610053e+02 -1.13446368e+05 -7.14613083e+04  6.54844630e+05\n",
      " -2.94298969e+05  2.55796520e+04]\n"
     ]
    }
   ],
   "source": [
    "x2 = train_data[['sqft_living','bedrooms','bathrooms','lat','long','bed_bath_rooms']]\n",
    "model2 = LinearRegression()\n",
    "model2.fit(x2,train_data['price'])\n",
    "print(model2.intercept_, model2.coef_)"
   ]
  },
  {
   "cell_type": "code",
   "execution_count": 11,
   "metadata": {},
   "outputs": [
    {
     "name": "stdout",
     "output_type": "stream",
     "text": [
      "-62036084.98609824 [ 5.29422820e+02  3.45142296e+04  6.70607813e+04  5.34085611e+05\n",
      " -4.06750711e+05 -8.57050439e+03 -6.78858667e+03 -5.61831484e+05\n",
      "  1.27334900e+05]\n"
     ]
    }
   ],
   "source": [
    "x3 = train_data[['sqft_living','bedrooms','bathrooms','lat','long',\n",
    "                       'bed_bath_rooms','bedrooms_squared','log_sqft_living','lat_plus_long']]\n",
    "model3 = LinearRegression()\n",
    "model3.fit(x3,train_data['price'])\n",
    "print(model3.intercept_, model3.coef_)"
   ]
  },
  {
   "cell_type": "markdown",
   "metadata": {},
   "source": [
    "# compute residual sum of squares"
   ]
  },
  {
   "cell_type": "code",
   "execution_count": 12,
   "metadata": {},
   "outputs": [],
   "source": [
    "def compute_RSS(model, input_features, output):\n",
    "    totalSS = ((output - output.mean())**2).sum()\n",
    "    RSS = (1 - model.score(input_features, output)) * totalSS\n",
    "    return RSS"
   ]
  },
  {
   "cell_type": "code",
   "execution_count": 13,
   "metadata": {},
   "outputs": [
    {
     "name": "stdout",
     "output_type": "stream",
     "text": [
      "9.68e+14 9.58e+14 9.03e+14\n"
     ]
    }
   ],
   "source": [
    "rss1 = compute_RSS(model1, x1, train_data['price'])\n",
    "rss2 = compute_RSS(model2, x2, train_data['price'])\n",
    "rss3 = compute_RSS(model3, x3, train_data['price'])\n",
    "print('%.2e %.2e %.2e'%(rss1,rss2,rss3))"
   ]
  },
  {
   "cell_type": "code",
   "execution_count": 14,
   "metadata": {},
   "outputs": [
    {
     "name": "stdout",
     "output_type": "stream",
     "text": [
      "2.26e+14  2.23e+14  2.59e+14\n"
     ]
    }
   ],
   "source": [
    "rss1 = compute_RSS(model1, test_data[['sqft_living','bedrooms','bathrooms','lat','long']], test_data['price'])\n",
    "rss2 = compute_RSS(model2, test_data[['sqft_living','bedrooms','bathrooms','lat','long','bed_bath_rooms']], test_data['price'])\n",
    "rss3 = compute_RSS(model3, test_data[['sqft_living','bedrooms','bathrooms','lat','long','bed_bath_rooms','bedrooms_squared','log_sqft_living','lat_plus_long']], test_data['price'])\n",
    "print('%.2e  %.2e  %.2e'%(rss1,rss2,rss3))"
   ]
  },
  {
   "cell_type": "code",
   "execution_count": null,
   "metadata": {},
   "outputs": [],
   "source": []
  }
 ],
 "metadata": {
  "kernelspec": {
   "display_name": "Python 3",
   "language": "python",
   "name": "python3"
  },
  "language_info": {
   "codemirror_mode": {
    "name": "ipython",
    "version": 3
   },
   "file_extension": ".py",
   "mimetype": "text/x-python",
   "name": "python",
   "nbconvert_exporter": "python",
   "pygments_lexer": "ipython3",
   "version": "3.7.7"
  }
 },
 "nbformat": 4,
 "nbformat_minor": 4
}
