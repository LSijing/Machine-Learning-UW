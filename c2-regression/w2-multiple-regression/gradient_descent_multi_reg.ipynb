{
 "cells": [
  {
   "cell_type": "code",
   "execution_count": 1,
   "metadata": {},
   "outputs": [],
   "source": [
    "import pandas as pd\n",
    "import numpy as np"
   ]
  },
  {
   "cell_type": "code",
   "execution_count": 2,
   "metadata": {},
   "outputs": [],
   "source": [
    "train_data = pd.read_csv('c_kc_house_train_data.csv/kc_house_train_data.csv')\n",
    "test_data = pd.read_csv('c_kc_house_test_data.csv/kc_house_test_data.csv')"
   ]
  },
  {
   "cell_type": "code",
   "execution_count": 3,
   "metadata": {},
   "outputs": [
    {
     "data": {
      "text/plain": [
       "Index(['id', 'date', 'price', 'bedrooms', 'bathrooms', 'sqft_living',\n",
       "       'sqft_lot', 'floors', 'waterfront', 'view', 'condition', 'grade',\n",
       "       'sqft_above', 'sqft_basement', 'yr_built', 'yr_renovated', 'zipcode',\n",
       "       'lat', 'long', 'sqft_living15', 'sqft_lot15'],\n",
       "      dtype='object')"
      ]
     },
     "execution_count": 3,
     "metadata": {},
     "output_type": "execute_result"
    }
   ],
   "source": [
    "train_data.columns"
   ]
  },
  {
   "cell_type": "markdown",
   "metadata": {},
   "source": [
    "# define gradient descent function"
   ]
  },
  {
   "cell_type": "code",
   "execution_count": 4,
   "metadata": {},
   "outputs": [],
   "source": [
    "def get_numpy_data(data, features, output_column):\n",
    "    data['constant'] = 1\n",
    "    fea = ['constant']\n",
    "    fea.extend(features)\n",
    "    x_matrix = data[fea].to_numpy()\n",
    "    y_vector = data[output_column].to_numpy()\n",
    "    return x_matrix, y_vector"
   ]
  },
  {
   "cell_type": "code",
   "execution_count": 5,
   "metadata": {},
   "outputs": [],
   "source": [
    "def get_prediction(x_matrix, weights):\n",
    "    return x_matrix @ weights"
   ]
  },
  {
   "cell_type": "code",
   "execution_count": 6,
   "metadata": {},
   "outputs": [],
   "source": [
    "def feature_derivative(errors, feature):\n",
    "    return 2 * errors @ feature"
   ]
  },
  {
   "cell_type": "code",
   "execution_count": 7,
   "metadata": {},
   "outputs": [],
   "source": [
    "def reg_gd(x_matrix, y_true, initial_weights, step_size=0.01, tolerance=1e-5):\n",
    "    weights = np.array(initial_weights, dtype=float)\n",
    "    converged = False\n",
    "    num_steps = 0\n",
    "    while not converged:\n",
    "        pred = get_prediction(x_matrix, weights)\n",
    "        errors = y_true - pred\n",
    "        gradient_square_norm = 0\n",
    "        for i in range(len(weights)):\n",
    "            partiali = feature_derivative(errors, x_matrix[:,i])\n",
    "            weights[i] += step_size * partiali\n",
    "            gradient_square_norm += partiali ** 2\n",
    "        num_steps += 1\n",
    "#         if num_steps % 1 == 0:\n",
    "#             print(num_steps, weights, '%.6e'%np.sqrt(gradient_square_norm))\n",
    "        converged = True if gradient_square_norm <= tolerance ** 2 else False\n",
    "    return weights, num_steps"
   ]
  },
  {
   "cell_type": "markdown",
   "metadata": {},
   "source": [
    "# model1: fit simple regression model"
   ]
  },
  {
   "cell_type": "code",
   "execution_count": 13,
   "metadata": {},
   "outputs": [
    {
     "name": "stdout",
     "output_type": "stream",
     "text": [
      "[-46999.88716555    281.91211918]\n"
     ]
    }
   ],
   "source": [
    "feature_matrix, output = get_numpy_data(train_data, ['sqft_living'], 'price')\n",
    "w,steps = reg_gd(feature_matrix, output, initial_weights= [-47000,1], step_size=7e-12, tolerance=2.5e7)\n",
    "print(w)"
   ]
  },
  {
   "cell_type": "markdown",
   "metadata": {},
   "source": [
    "# predict"
   ]
  },
  {
   "cell_type": "code",
   "execution_count": 9,
   "metadata": {},
   "outputs": [
    {
     "name": "stdout",
     "output_type": "stream",
     "text": [
      "356134.4432550024\n"
     ]
    }
   ],
   "source": [
    "test_feature, test_output = get_numpy_data(test_data, ['sqft_living'], 'price')\n",
    "test_pred = get_prediction(test_feature, w)\n",
    "print(test_pred[0])\n",
    "rss1 = np.linalg.norm(test_pred- test_output) ** 2"
   ]
  },
  {
   "cell_type": "markdown",
   "metadata": {},
   "source": [
    "# model2: multiple regression"
   ]
  },
  {
   "cell_type": "code",
   "execution_count": 10,
   "metadata": {},
   "outputs": [],
   "source": [
    "feature_matrix,ouput = get_numpy_data(train_data, ['sqft_living','sqft_living15'], 'price')\n",
    "ini_weight = [-100000,1,1] \n",
    "w2, steps = reg_gd(feature_matrix, output, initial_weights=ini_weight, step_size= 4e-12, tolerance=1e9)"
   ]
  },
  {
   "cell_type": "code",
   "execution_count": 11,
   "metadata": {},
   "outputs": [
    {
     "name": "stdout",
     "output_type": "stream",
     "text": [
      "366651.4116294939 310000.0\n"
     ]
    }
   ],
   "source": [
    "test_feature,_ = get_numpy_data(test_data, ['sqft_living','sqft_living15'], 'price')\n",
    "test_pred2 = get_prediction(test_feature, w2)\n",
    "print(test_pred2[0], test_output[0])\n",
    "rss2 = np.linalg.norm(test_pred2 - test_output) ** 2"
   ]
  },
  {
   "cell_type": "code",
   "execution_count": 12,
   "metadata": {},
   "outputs": [
    {
     "name": "stdout",
     "output_type": "stream",
     "text": [
      "2.75e+14 2.70e+14\n"
     ]
    }
   ],
   "source": [
    "print('%.2e %.2e'%(rss1, rss2))"
   ]
  },
  {
   "cell_type": "code",
   "execution_count": null,
   "metadata": {},
   "outputs": [],
   "source": []
  }
 ],
 "metadata": {
  "kernelspec": {
   "display_name": "Python 3",
   "language": "python",
   "name": "python3"
  },
  "language_info": {
   "codemirror_mode": {
    "name": "ipython",
    "version": 3
   },
   "file_extension": ".py",
   "mimetype": "text/x-python",
   "name": "python",
   "nbconvert_exporter": "python",
   "pygments_lexer": "ipython3",
   "version": "3.7.7"
  }
 },
 "nbformat": 4,
 "nbformat_minor": 4
}
