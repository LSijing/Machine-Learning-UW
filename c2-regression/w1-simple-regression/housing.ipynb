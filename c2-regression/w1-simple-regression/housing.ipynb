{
 "cells": [
  {
   "cell_type": "code",
   "execution_count": 1,
   "metadata": {},
   "outputs": [],
   "source": [
    "import pandas as pd"
   ]
  },
  {
   "cell_type": "code",
   "execution_count": 2,
   "metadata": {},
   "outputs": [],
   "source": [
    "train_data = pd.read_csv('kc_house_train_data.csv/kc_house_train_data.csv')\n",
    "test_data = pd.read_csv('kc_house_test_data.csv/kc_house_test_data.csv')"
   ]
  },
  {
   "cell_type": "code",
   "execution_count": 3,
   "metadata": {},
   "outputs": [
    {
     "data": {
      "text/plain": [
       "Index(['id', 'date', 'price', 'bedrooms', 'bathrooms', 'sqft_living',\n",
       "       'sqft_lot', 'floors', 'waterfront', 'view', 'condition', 'grade',\n",
       "       'sqft_above', 'sqft_basement', 'yr_built', 'yr_renovated', 'zipcode',\n",
       "       'lat', 'long', 'sqft_living15', 'sqft_lot15'],\n",
       "      dtype='object')"
      ]
     },
     "execution_count": 3,
     "metadata": {},
     "output_type": "execute_result"
    }
   ],
   "source": [
    "train_data.columns"
   ]
  },
  {
   "cell_type": "code",
   "execution_count": 4,
   "metadata": {},
   "outputs": [],
   "source": [
    "def simple_linear_regression(input_feature, output):\n",
    "    x, y = input_feature, output\n",
    "    denominator = ((x - x.mean()) ** 2).sum()\n",
    "    numerator = ((y - y.mean()) * (x - x.mean())).sum()\n",
    "    slope = numerator / denominator\n",
    "    intercept = y.mean() - x.mean() * slope\n",
    "    return intercept, slope"
   ]
  },
  {
   "cell_type": "code",
   "execution_count": 5,
   "metadata": {},
   "outputs": [],
   "source": [
    "def get_regression_prediction(input_feature, intercept, slope):\n",
    "    x = input_feature\n",
    "    pred = slope * x + intercept\n",
    "    return pred"
   ]
  },
  {
   "cell_type": "code",
   "execution_count": 6,
   "metadata": {},
   "outputs": [],
   "source": [
    "def get_RSS(input_feature, output, intercept, slope):\n",
    "    pred = input_feature * slope + intercept\n",
    "    RSS = ((pred - output) ** 2).sum()\n",
    "    return RSS"
   ]
  },
  {
   "cell_type": "code",
   "execution_count": 7,
   "metadata": {},
   "outputs": [],
   "source": [
    "def inverse_regression_prediction(output, intercept, slope):\n",
    "    x = (output - intercept) / slope\n",
    "    return x"
   ]
  },
  {
   "cell_type": "code",
   "execution_count": 8,
   "metadata": {},
   "outputs": [
    {
     "name": "stdout",
     "output_type": "stream",
     "text": [
      "-47116.07907289371 281.95883963034237\n",
      "700074.8459475136\n",
      "1.20191835e+15\n",
      "3004.396245152277\n"
     ]
    }
   ],
   "source": [
    "w0_sqft,w1_sqft = simple_linear_regression(input_feature=train_data['sqft_living'], output=train_data['price'])\n",
    "print(w0_sqft,w1_sqft)\n",
    "pred = get_regression_prediction(2650, intercept=w0_sqft, slope=w1_sqft)\n",
    "print(pred)\n",
    "RSS_sqft = get_RSS(train_data['sqft_living'], output=train_data['price'], intercept=w0_sqft, slope=w1_sqft)\n",
    "print('%.8e'%RSS_sqft)\n",
    "invpred = inverse_regression_prediction(800000, intercept=w0_sqft, slope=w1_sqft)\n",
    "print(invpred)"
   ]
  },
  {
   "cell_type": "code",
   "execution_count": 9,
   "metadata": {},
   "outputs": [
    {
     "name": "stdout",
     "output_type": "stream",
     "text": [
      "109473.17762295948 127588.95293398786\n",
      "2.75e+14 4.93e+14\n"
     ]
    }
   ],
   "source": [
    "w0_bed, w1_bed = simple_linear_regression(input_feature=train_data['bedrooms'], output=train_data['price'])\n",
    "print(w0_bed, w1_bed)\n",
    "testRSS_sqft = get_RSS(input_feature=test_data['sqft_living'], output=test_data['price'], intercept=w0_sqft, slope=w1_sqft)\n",
    "testRSS_bed = get_RSS(input_feature=test_data['bedrooms'], output=test_data['price'], intercept=w0_bed, slope=w1_bed)\n",
    "print('%.2e %.2e'%(testRSS_sqft, testRSS_bed))"
   ]
  },
  {
   "cell_type": "code",
   "execution_count": null,
   "metadata": {},
   "outputs": [],
   "source": []
  }
 ],
 "metadata": {
  "kernelspec": {
   "display_name": "Python 3",
   "language": "python",
   "name": "python3"
  },
  "language_info": {
   "codemirror_mode": {
    "name": "ipython",
    "version": 3
   },
   "file_extension": ".py",
   "mimetype": "text/x-python",
   "name": "python",
   "nbconvert_exporter": "python",
   "pygments_lexer": "ipython3",
   "version": "3.7.7"
  }
 },
 "nbformat": 4,
 "nbformat_minor": 4
}
