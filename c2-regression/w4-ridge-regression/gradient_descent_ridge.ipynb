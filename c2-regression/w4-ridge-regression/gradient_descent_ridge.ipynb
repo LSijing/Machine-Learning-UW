{
 "cells": [
  {
   "cell_type": "code",
   "execution_count": 2,
   "metadata": {},
   "outputs": [],
   "source": [
    "import numpy as np\n",
    "import pandas as pd\n",
    "import matplotlib.pyplot as plt"
   ]
  },
  {
   "cell_type": "code",
   "execution_count": 3,
   "metadata": {},
   "outputs": [
    {
     "data": {
      "text/html": [
       "<div>\n",
       "<style scoped>\n",
       "    .dataframe tbody tr th:only-of-type {\n",
       "        vertical-align: middle;\n",
       "    }\n",
       "\n",
       "    .dataframe tbody tr th {\n",
       "        vertical-align: top;\n",
       "    }\n",
       "\n",
       "    .dataframe thead th {\n",
       "        text-align: right;\n",
       "    }\n",
       "</style>\n",
       "<table border=\"1\" class=\"dataframe\">\n",
       "  <thead>\n",
       "    <tr style=\"text-align: right;\">\n",
       "      <th></th>\n",
       "      <th>id</th>\n",
       "      <th>date</th>\n",
       "      <th>price</th>\n",
       "      <th>bedrooms</th>\n",
       "      <th>bathrooms</th>\n",
       "      <th>sqft_living</th>\n",
       "      <th>sqft_lot</th>\n",
       "      <th>floors</th>\n",
       "      <th>waterfront</th>\n",
       "      <th>view</th>\n",
       "      <th>...</th>\n",
       "      <th>grade</th>\n",
       "      <th>sqft_above</th>\n",
       "      <th>sqft_basement</th>\n",
       "      <th>yr_built</th>\n",
       "      <th>yr_renovated</th>\n",
       "      <th>zipcode</th>\n",
       "      <th>lat</th>\n",
       "      <th>long</th>\n",
       "      <th>sqft_living15</th>\n",
       "      <th>sqft_lot15</th>\n",
       "    </tr>\n",
       "  </thead>\n",
       "  <tbody>\n",
       "    <tr>\n",
       "      <th>0</th>\n",
       "      <td>0114101516</td>\n",
       "      <td>20140528T000000</td>\n",
       "      <td>310000.0</td>\n",
       "      <td>3.0</td>\n",
       "      <td>1.00</td>\n",
       "      <td>1430.0</td>\n",
       "      <td>19901</td>\n",
       "      <td>1.5</td>\n",
       "      <td>0</td>\n",
       "      <td>0</td>\n",
       "      <td>...</td>\n",
       "      <td>7</td>\n",
       "      <td>1430</td>\n",
       "      <td>0</td>\n",
       "      <td>1927</td>\n",
       "      <td>0</td>\n",
       "      <td>98028</td>\n",
       "      <td>47.7558</td>\n",
       "      <td>-122.229</td>\n",
       "      <td>1780.0</td>\n",
       "      <td>12697.0</td>\n",
       "    </tr>\n",
       "    <tr>\n",
       "      <th>1</th>\n",
       "      <td>9297300055</td>\n",
       "      <td>20150124T000000</td>\n",
       "      <td>650000.0</td>\n",
       "      <td>4.0</td>\n",
       "      <td>3.00</td>\n",
       "      <td>2950.0</td>\n",
       "      <td>5000</td>\n",
       "      <td>2</td>\n",
       "      <td>0</td>\n",
       "      <td>3</td>\n",
       "      <td>...</td>\n",
       "      <td>9</td>\n",
       "      <td>1980</td>\n",
       "      <td>970</td>\n",
       "      <td>1979</td>\n",
       "      <td>0</td>\n",
       "      <td>98126</td>\n",
       "      <td>47.5714</td>\n",
       "      <td>-122.375</td>\n",
       "      <td>2140.0</td>\n",
       "      <td>4000.0</td>\n",
       "    </tr>\n",
       "    <tr>\n",
       "      <th>2</th>\n",
       "      <td>1202000200</td>\n",
       "      <td>20141103T000000</td>\n",
       "      <td>233000.0</td>\n",
       "      <td>3.0</td>\n",
       "      <td>2.00</td>\n",
       "      <td>1710.0</td>\n",
       "      <td>4697</td>\n",
       "      <td>1.5</td>\n",
       "      <td>0</td>\n",
       "      <td>0</td>\n",
       "      <td>...</td>\n",
       "      <td>6</td>\n",
       "      <td>1710</td>\n",
       "      <td>0</td>\n",
       "      <td>1941</td>\n",
       "      <td>0</td>\n",
       "      <td>98002</td>\n",
       "      <td>47.3048</td>\n",
       "      <td>-122.218</td>\n",
       "      <td>1030.0</td>\n",
       "      <td>4705.0</td>\n",
       "    </tr>\n",
       "    <tr>\n",
       "      <th>3</th>\n",
       "      <td>8562750320</td>\n",
       "      <td>20141110T000000</td>\n",
       "      <td>580500.0</td>\n",
       "      <td>3.0</td>\n",
       "      <td>2.50</td>\n",
       "      <td>2320.0</td>\n",
       "      <td>3980</td>\n",
       "      <td>2</td>\n",
       "      <td>0</td>\n",
       "      <td>0</td>\n",
       "      <td>...</td>\n",
       "      <td>8</td>\n",
       "      <td>2320</td>\n",
       "      <td>0</td>\n",
       "      <td>2003</td>\n",
       "      <td>0</td>\n",
       "      <td>98027</td>\n",
       "      <td>47.5391</td>\n",
       "      <td>-122.070</td>\n",
       "      <td>2580.0</td>\n",
       "      <td>3980.0</td>\n",
       "    </tr>\n",
       "    <tr>\n",
       "      <th>4</th>\n",
       "      <td>7589200193</td>\n",
       "      <td>20141110T000000</td>\n",
       "      <td>535000.0</td>\n",
       "      <td>3.0</td>\n",
       "      <td>1.00</td>\n",
       "      <td>1090.0</td>\n",
       "      <td>3000</td>\n",
       "      <td>1.5</td>\n",
       "      <td>0</td>\n",
       "      <td>0</td>\n",
       "      <td>...</td>\n",
       "      <td>8</td>\n",
       "      <td>1090</td>\n",
       "      <td>0</td>\n",
       "      <td>1929</td>\n",
       "      <td>0</td>\n",
       "      <td>98117</td>\n",
       "      <td>47.6889</td>\n",
       "      <td>-122.375</td>\n",
       "      <td>1570.0</td>\n",
       "      <td>5080.0</td>\n",
       "    </tr>\n",
       "    <tr>\n",
       "      <th>...</th>\n",
       "      <td>...</td>\n",
       "      <td>...</td>\n",
       "      <td>...</td>\n",
       "      <td>...</td>\n",
       "      <td>...</td>\n",
       "      <td>...</td>\n",
       "      <td>...</td>\n",
       "      <td>...</td>\n",
       "      <td>...</td>\n",
       "      <td>...</td>\n",
       "      <td>...</td>\n",
       "      <td>...</td>\n",
       "      <td>...</td>\n",
       "      <td>...</td>\n",
       "      <td>...</td>\n",
       "      <td>...</td>\n",
       "      <td>...</td>\n",
       "      <td>...</td>\n",
       "      <td>...</td>\n",
       "      <td>...</td>\n",
       "      <td>...</td>\n",
       "    </tr>\n",
       "    <tr>\n",
       "      <th>4224</th>\n",
       "      <td>8672200110</td>\n",
       "      <td>20150317T000000</td>\n",
       "      <td>1088000.0</td>\n",
       "      <td>5.0</td>\n",
       "      <td>3.75</td>\n",
       "      <td>4170.0</td>\n",
       "      <td>8142</td>\n",
       "      <td>2</td>\n",
       "      <td>0</td>\n",
       "      <td>2</td>\n",
       "      <td>...</td>\n",
       "      <td>10</td>\n",
       "      <td>4170</td>\n",
       "      <td>0</td>\n",
       "      <td>2006</td>\n",
       "      <td>0</td>\n",
       "      <td>98056</td>\n",
       "      <td>47.5354</td>\n",
       "      <td>-122.181</td>\n",
       "      <td>3030.0</td>\n",
       "      <td>7980.0</td>\n",
       "    </tr>\n",
       "    <tr>\n",
       "      <th>4225</th>\n",
       "      <td>5087900040</td>\n",
       "      <td>20141017T000000</td>\n",
       "      <td>350000.0</td>\n",
       "      <td>4.0</td>\n",
       "      <td>2.75</td>\n",
       "      <td>2500.0</td>\n",
       "      <td>5995</td>\n",
       "      <td>2</td>\n",
       "      <td>0</td>\n",
       "      <td>0</td>\n",
       "      <td>...</td>\n",
       "      <td>8</td>\n",
       "      <td>2500</td>\n",
       "      <td>0</td>\n",
       "      <td>2008</td>\n",
       "      <td>0</td>\n",
       "      <td>98042</td>\n",
       "      <td>47.3749</td>\n",
       "      <td>-122.107</td>\n",
       "      <td>2530.0</td>\n",
       "      <td>5988.0</td>\n",
       "    </tr>\n",
       "    <tr>\n",
       "      <th>4226</th>\n",
       "      <td>3448900210</td>\n",
       "      <td>20141014T000000</td>\n",
       "      <td>610685.0</td>\n",
       "      <td>4.0</td>\n",
       "      <td>2.50</td>\n",
       "      <td>2520.0</td>\n",
       "      <td>6023</td>\n",
       "      <td>2</td>\n",
       "      <td>0</td>\n",
       "      <td>0</td>\n",
       "      <td>...</td>\n",
       "      <td>9</td>\n",
       "      <td>2520</td>\n",
       "      <td>0</td>\n",
       "      <td>2014</td>\n",
       "      <td>0</td>\n",
       "      <td>98056</td>\n",
       "      <td>47.5137</td>\n",
       "      <td>-122.167</td>\n",
       "      <td>2520.0</td>\n",
       "      <td>6023.0</td>\n",
       "    </tr>\n",
       "    <tr>\n",
       "      <th>4227</th>\n",
       "      <td>6600060120</td>\n",
       "      <td>20150223T000000</td>\n",
       "      <td>400000.0</td>\n",
       "      <td>4.0</td>\n",
       "      <td>2.50</td>\n",
       "      <td>2310.0</td>\n",
       "      <td>5813</td>\n",
       "      <td>2</td>\n",
       "      <td>0</td>\n",
       "      <td>0</td>\n",
       "      <td>...</td>\n",
       "      <td>8</td>\n",
       "      <td>2310</td>\n",
       "      <td>0</td>\n",
       "      <td>2014</td>\n",
       "      <td>0</td>\n",
       "      <td>98146</td>\n",
       "      <td>47.5107</td>\n",
       "      <td>-122.362</td>\n",
       "      <td>1830.0</td>\n",
       "      <td>7200.0</td>\n",
       "    </tr>\n",
       "    <tr>\n",
       "      <th>4228</th>\n",
       "      <td>1523300141</td>\n",
       "      <td>20140623T000000</td>\n",
       "      <td>402101.0</td>\n",
       "      <td>2.0</td>\n",
       "      <td>0.75</td>\n",
       "      <td>1020.0</td>\n",
       "      <td>1350</td>\n",
       "      <td>2</td>\n",
       "      <td>0</td>\n",
       "      <td>0</td>\n",
       "      <td>...</td>\n",
       "      <td>7</td>\n",
       "      <td>1020</td>\n",
       "      <td>0</td>\n",
       "      <td>2009</td>\n",
       "      <td>0</td>\n",
       "      <td>98144</td>\n",
       "      <td>47.5944</td>\n",
       "      <td>-122.299</td>\n",
       "      <td>1020.0</td>\n",
       "      <td>2007.0</td>\n",
       "    </tr>\n",
       "  </tbody>\n",
       "</table>\n",
       "<p>4229 rows × 21 columns</p>\n",
       "</div>"
      ],
      "text/plain": [
       "              id             date      price  bedrooms  bathrooms  \\\n",
       "0     0114101516  20140528T000000   310000.0       3.0       1.00   \n",
       "1     9297300055  20150124T000000   650000.0       4.0       3.00   \n",
       "2     1202000200  20141103T000000   233000.0       3.0       2.00   \n",
       "3     8562750320  20141110T000000   580500.0       3.0       2.50   \n",
       "4     7589200193  20141110T000000   535000.0       3.0       1.00   \n",
       "...          ...              ...        ...       ...        ...   \n",
       "4224  8672200110  20150317T000000  1088000.0       5.0       3.75   \n",
       "4225  5087900040  20141017T000000   350000.0       4.0       2.75   \n",
       "4226  3448900210  20141014T000000   610685.0       4.0       2.50   \n",
       "4227  6600060120  20150223T000000   400000.0       4.0       2.50   \n",
       "4228  1523300141  20140623T000000   402101.0       2.0       0.75   \n",
       "\n",
       "      sqft_living  sqft_lot floors  waterfront  view  ...  grade  sqft_above  \\\n",
       "0          1430.0     19901    1.5           0     0  ...      7        1430   \n",
       "1          2950.0      5000      2           0     3  ...      9        1980   \n",
       "2          1710.0      4697    1.5           0     0  ...      6        1710   \n",
       "3          2320.0      3980      2           0     0  ...      8        2320   \n",
       "4          1090.0      3000    1.5           0     0  ...      8        1090   \n",
       "...           ...       ...    ...         ...   ...  ...    ...         ...   \n",
       "4224       4170.0      8142      2           0     2  ...     10        4170   \n",
       "4225       2500.0      5995      2           0     0  ...      8        2500   \n",
       "4226       2520.0      6023      2           0     0  ...      9        2520   \n",
       "4227       2310.0      5813      2           0     0  ...      8        2310   \n",
       "4228       1020.0      1350      2           0     0  ...      7        1020   \n",
       "\n",
       "      sqft_basement  yr_built  yr_renovated  zipcode      lat     long  \\\n",
       "0                 0      1927             0    98028  47.7558 -122.229   \n",
       "1               970      1979             0    98126  47.5714 -122.375   \n",
       "2                 0      1941             0    98002  47.3048 -122.218   \n",
       "3                 0      2003             0    98027  47.5391 -122.070   \n",
       "4                 0      1929             0    98117  47.6889 -122.375   \n",
       "...             ...       ...           ...      ...      ...      ...   \n",
       "4224              0      2006             0    98056  47.5354 -122.181   \n",
       "4225              0      2008             0    98042  47.3749 -122.107   \n",
       "4226              0      2014             0    98056  47.5137 -122.167   \n",
       "4227              0      2014             0    98146  47.5107 -122.362   \n",
       "4228              0      2009             0    98144  47.5944 -122.299   \n",
       "\n",
       "      sqft_living15  sqft_lot15  \n",
       "0            1780.0     12697.0  \n",
       "1            2140.0      4000.0  \n",
       "2            1030.0      4705.0  \n",
       "3            2580.0      3980.0  \n",
       "4            1570.0      5080.0  \n",
       "...             ...         ...  \n",
       "4224         3030.0      7980.0  \n",
       "4225         2530.0      5988.0  \n",
       "4226         2520.0      6023.0  \n",
       "4227         1830.0      7200.0  \n",
       "4228         1020.0      2007.0  \n",
       "\n",
       "[4229 rows x 21 columns]"
      ]
     },
     "execution_count": 3,
     "metadata": {},
     "output_type": "execute_result"
    }
   ],
   "source": [
    "dtype_dict = {'bathrooms':float, 'waterfront':int, 'sqft_above':int, \n",
    "              'sqft_living15':float, 'grade':int, 'yr_renovated':int, \n",
    "              'price':float, 'bedrooms':float, 'zipcode':str, 'long':float, 'sqft_lot15':float, \n",
    "              'sqft_living':float, 'floors':str, 'condition':int, 'lat':float, 'date':str, 'sqft_basement':int, \n",
    "              'yr_built':int, 'id':str, 'sqft_lot':int, 'view':int}"
   ]
  },
  {
   "cell_type": "code",
   "execution_count": 25,
   "metadata": {},
   "outputs": [],
   "source": [
    "def get_numpy_data(data_frame, feature:list, output:str):\n",
    "    lst = ['constant']\n",
    "    data_frame['constant'] = 1\n",
    "    lst.extend(feature)\n",
    "    feature_matrix = data_frame[lst].to_numpy()\n",
    "    output_vector = data_frame[output].to_numpy()\n",
    "    return feature_matrix, output_vector"
   ]
  },
  {
   "cell_type": "code",
   "execution_count": 5,
   "metadata": {},
   "outputs": [],
   "source": [
    "def predict_output(feature_matrix, coefs):\n",
    "    return feature_matrix @ coefs"
   ]
  },
  {
   "cell_type": "code",
   "execution_count": 7,
   "metadata": {},
   "outputs": [],
   "source": [
    "def feature_derivatives_ridge(errors, feature, weight, l2_penalty, is_feature_constant):\n",
    "    linear_reg_term = -2 * errors @ feature\n",
    "    if is_feature_constant:\n",
    "        return linear_reg_term\n",
    "    return linear_reg_term + l2_penalty * weight * 2"
   ]
  },
  {
   "cell_type": "markdown",
   "metadata": {},
   "source": [
    "# test derivatives"
   ]
  },
  {
   "cell_type": "code",
   "execution_count": 17,
   "metadata": {},
   "outputs": [
    {
     "name": "stdout",
     "output_type": "stream",
     "text": [
      "-56554166815950.0\n",
      "-56554166815950.0\n",
      "-22446749330.0\n",
      "-22446749330.0\n"
     ]
    }
   ],
   "source": [
    "sales = pd.read_csv('kc_house_data.csv (2)/kc_house_data.csv')\n",
    "example_features, example_output = get_numpy_data(sales, ['sqft_living'], 'price')\n",
    "my_weights = np.array([1.0, 10.0])\n",
    "test_pred = predict_output(example_features, my_weights)\n",
    "errors = example_output - test_pred\n",
    "\n",
    "print(feature_derivatives_ridge(errors, example_features[:,1], my_weights[1], 1, False))\n",
    "print(-np.sum(errors*example_features[:,1])*2+20)\n",
    "\n",
    "print(feature_derivatives_ridge(errors, example_features[:,0], my_weights[0], 1, True))\n",
    "print(-np.sum(errors)*2)"
   ]
  },
  {
   "cell_type": "markdown",
   "metadata": {},
   "source": [
    "# gradient descent function"
   ]
  },
  {
   "cell_type": "code",
   "execution_count": 35,
   "metadata": {},
   "outputs": [],
   "source": [
    "def ridge_gradient_descent(feature_matrix, output, initial_weights, step_size, l2_penalty, max_iters=100):\n",
    "    weights = initial_weights\n",
    "    for i in range(max_iters):\n",
    "        ypred = predict_output(feature_matrix, weights)\n",
    "        errors = output - ypred\n",
    "        for j in range(len(weights)):\n",
    "            const = True if j==0 else False\n",
    "            partiali = feature_derivatives_ridge(errors, feature_matrix[:,j], weights[j], l2_penalty, const)\n",
    "            weights[j] -= step_size * partiali\n",
    "    return weights"
   ]
  },
  {
   "cell_type": "markdown",
   "metadata": {},
   "source": [
    "# l2-norm is decreased via l2-penalty"
   ]
  },
  {
   "cell_type": "code",
   "execution_count": 68,
   "metadata": {},
   "outputs": [],
   "source": [
    "train_data = pd.read_csv('kc_house_train_data.csv/kc_house_train_data.csv', dtype=dtype_dict)\n",
    "train_data = train_data.sort_values(['sqft_living','price'])\n",
    "test_data = pd.read_csv('kc_house_test_data.csv/kc_house_test_data.csv', dtype=dtype_dict)\n",
    "test_data = test_data.sort_values(['sqft_living','price'])"
   ]
  },
  {
   "cell_type": "code",
   "execution_count": 69,
   "metadata": {},
   "outputs": [],
   "source": [
    "train_feature_matrix, train_output = get_numpy_data(train_data, ['sqft_living'], 'price')\n",
    "test_feature_matrix, test_output = get_numpy_data(test_data, ['sqft_living'], 'price')"
   ]
  },
  {
   "cell_type": "code",
   "execution_count": 70,
   "metadata": {},
   "outputs": [
    {
     "name": "stdout",
     "output_type": "stream",
     "text": [
      "[-1.63113515e-01  2.63024369e+02]\n",
      "[  9.76730382 124.57217567]\n"
     ]
    }
   ],
   "source": [
    "step_size = 1e-12\n",
    "max_iter = 1000\n",
    "initial_weights = np.array([0.0, 0.0])\n",
    "simple_0_penalty_weights = ridge_gradient_descent(train_feature_matrix, train_output, np.array([0.0,0.0]), step_size, 0.0, max_iter)\n",
    "print(simple_0_penalty_weights)\n",
    "simple_high_penalty_weights = ridge_gradient_descent(train_feature_matrix, train_output, np.array([0.0,0.0]), step_size, 1.0e11, max_iter)\n",
    "print(simple_high_penalty_weights)"
   ]
  },
  {
   "cell_type": "code",
   "execution_count": 71,
   "metadata": {},
   "outputs": [
    {
     "data": {
      "text/plain": [
       "[<matplotlib.lines.Line2D at 0x7fe06ff25950>,\n",
       " <matplotlib.lines.Line2D at 0x7fe06ff25b50>,\n",
       " <matplotlib.lines.Line2D at 0x7fe06ff25550>]"
      ]
     },
     "execution_count": 71,
     "metadata": {},
     "output_type": "execute_result"
    },
    {
     "data": {
      "image/png": "[encoded data removed]",
      "text/plain": [
       "<Figure size 432x288 with 1 Axes>"
      ]
     },
     "metadata": {
      "needs_background": "light"
     },
     "output_type": "display_data"
    }
   ],
   "source": [
    "plt.plot(train_feature_matrix[:,1], train_output, 'k.',\n",
    "        train_feature_matrix[:,1], predict_output(train_feature_matrix,simple_0_penalty_weights),'b-',\n",
    "        train_feature_matrix[:,1], predict_output(train_feature_matrix,simple_high_penalty_weights),'r-')"
   ]
  },
  {
   "cell_type": "code",
   "execution_count": 75,
   "metadata": {},
   "outputs": [
    {
     "name": "stdout",
     "output_type": "stream",
     "text": [
      "1.78e+15, 2.76e+14, 6.95e+14\n"
     ]
    }
   ],
   "source": [
    "rss_0 = np.linalg.norm(test_output - predict_output(test_feature_matrix, initial_weights))**2\n",
    "rss_0_penalty = np.linalg.norm(test_output - predict_output(test_feature_matrix, simple_0_penalty_weights)) **2\n",
    "rss_high_penalty = np.linalg.norm(test_output - predict_output(test_feature_matrix, simple_high_penalty_weights))**2\n",
    "print('%.2e, %.2e, %.2e'%(rss_0,rss_0_penalty,rss_high_penalty))"
   ]
  },
  {
   "cell_type": "markdown",
   "metadata": {},
   "source": [
    "# two features ridge regression"
   ]
  },
  {
   "cell_type": "code",
   "execution_count": 76,
   "metadata": {},
   "outputs": [],
   "source": [
    "train_feature_matrix,train_output = get_numpy_data(train_data, ['sqft_living','sqft_living15'], 'price')\n",
    "test_feature_matrix,test_output = get_numpy_data(test_data, ['sqft_living','sqft_living15'], 'price')"
   ]
  },
  {
   "cell_type": "code",
   "execution_count": 77,
   "metadata": {},
   "outputs": [],
   "source": [
    "mulitple_0_penalty_weights = ridge_gradient_descent(train_feature_matrix, train_output, np.array([0.0,0.0,0.0]), 1e-12, 0.0, max_iters=1000)\n",
    "mulitple_high_penalty_weights = ridge_gradient_descent(train_feature_matrix, train_output, np.array([0.0,0.0,0.0]), 1e-12, 1.0e11, max_iters=1000)"
   ]
  },
  {
   "cell_type": "code",
   "execution_count": 78,
   "metadata": {},
   "outputs": [
    {
     "name": "stdout",
     "output_type": "stream",
     "text": [
      "[ -0.35743483 243.05416982  22.41481497]\n",
      "[ 6.74296579 91.48927365 78.43658766]\n"
     ]
    }
   ],
   "source": [
    "print(mulitple_0_penalty_weights)\n",
    "print(mulitple_high_penalty_weights)"
   ]
  },
  {
   "cell_type": "code",
   "execution_count": 79,
   "metadata": {},
   "outputs": [
    {
     "name": "stdout",
     "output_type": "stream",
     "text": [
      "1.78e+15, 2.74e+14, 5.00e+14\n"
     ]
    }
   ],
   "source": [
    "rss_0 = np.linalg.norm(test_output - predict_output(test_feature_matrix,np.array([0.0,0.0,0.0])))**2\n",
    "rss_0_penalty = np.linalg.norm(test_output - predict_output(test_feature_matrix, mulitple_0_penalty_weights)) **2\n",
    "rss_high_penalty = np.linalg.norm(test_output - predict_output(test_feature_matrix, mulitple_high_penalty_weights))**2\n",
    "print('%.2e, %.2e, %.2e'%(rss_0,rss_0_penalty,rss_high_penalty))"
   ]
  },
  {
   "cell_type": "code",
   "execution_count": 81,
   "metadata": {},
   "outputs": [
    {
     "name": "stdout",
     "output_type": "stream",
     "text": [
      "276000.0\n",
      "119965.53746060442\n",
      "138962.80168411497\n"
     ]
    }
   ],
   "source": [
    "print(test_output[0])\n",
    "print(predict_output(test_feature_matrix[0,:], mulitple_0_penalty_weights))\n",
    "print(predict_output(test_feature_matrix[0,:], mulitple_high_penalty_weights))"
   ]
  },
  {
   "cell_type": "code",
   "execution_count": null,
   "metadata": {},
   "outputs": [],
   "source": []
  }
 ],
 "metadata": {
  "kernelspec": {
   "display_name": "Python 3",
   "language": "python",
   "name": "python3"
  },
  "language_info": {
   "codemirror_mode": {
    "name": "ipython",
    "version": 3
   },
   "file_extension": ".py",
   "mimetype": "text/x-python",
   "name": "python",
   "nbconvert_exporter": "python",
   "pygments_lexer": "ipython3",
   "version": "3.7.7"
  }
 },
 "nbformat": 4,
 "nbformat_minor": 4
}
