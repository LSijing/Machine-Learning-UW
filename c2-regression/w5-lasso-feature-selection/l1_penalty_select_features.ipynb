{
 "cells": [
  {
   "cell_type": "markdown",
   "metadata": {},
   "source": [
    "# import data"
   ]
  },
  {
   "cell_type": "code",
   "execution_count": 15,
   "metadata": {},
   "outputs": [],
   "source": [
    "import pandas as pd\n",
    "import numpy as np\n",
    "\n",
    "dtype_dict = {'bathrooms':float, 'waterfront':int, 'sqft_above':int, 'sqft_living15':float, 'grade':int, \n",
    "              'yr_renovated':int, 'price':float, 'bedrooms':float, 'zipcode':str, 'long':float, \n",
    "              'sqft_lot15':float, 'sqft_living':float, 'floors':float, 'condition':int, 'lat':float, \n",
    "              'date':str, 'sqft_basement':int, 'yr_built':int, 'id':str, 'sqft_lot':int, 'view':int}\n",
    "\n",
    "sales = pd.read_csv('kc_house_data.csv', dtype=dtype_dict)"
   ]
  },
  {
   "cell_type": "markdown",
   "metadata": {},
   "source": [
    "# add new features, verify that lasso leads to sparsity indeed"
   ]
  },
  {
   "cell_type": "code",
   "execution_count": 2,
   "metadata": {},
   "outputs": [],
   "source": [
    "from math import log, sqrt\n",
    "sales['sqft_living_sqrt'] = sales['sqft_living'].apply(sqrt)\n",
    "sales['sqft_lot_sqrt'] = sales['sqft_lot'].apply(sqrt)\n",
    "sales['bedrooms_square'] = sales['bedrooms']*sales['bedrooms']\n",
    "sales['floors_square'] = sales['floors']*sales['floors']"
   ]
  },
  {
   "cell_type": "code",
   "execution_count": 3,
   "metadata": {},
   "outputs": [
    {
     "data": {
      "text/plain": [
       "Lasso(alpha=500.0, normalize=True)"
      ]
     },
     "execution_count": 3,
     "metadata": {},
     "output_type": "execute_result"
    }
   ],
   "source": [
    "from sklearn import linear_model\n",
    "\n",
    "all_features = ['bedrooms', 'bedrooms_square',\n",
    "            'bathrooms',\n",
    "            'sqft_living', 'sqft_living_sqrt',\n",
    "            'sqft_lot', 'sqft_lot_sqrt',\n",
    "            'floors', 'floors_square',\n",
    "            'waterfront', 'view', 'condition', 'grade',\n",
    "            'sqft_above',\n",
    "            'sqft_basement',\n",
    "            'yr_built', 'yr_renovated']\n",
    "\n",
    "model_all = linear_model.Lasso(alpha=5e2, normalize=True)\n",
    "model_all.fit(sales[all_features], sales['price'])"
   ]
  },
  {
   "cell_type": "code",
   "execution_count": 5,
   "metadata": {},
   "outputs": [
    {
     "name": "stdout",
     "output_type": "stream",
     "text": [
      "0.0 bedrooms\n",
      "0.0 bedrooms_square\n",
      "0.0 bathrooms\n",
      "134.43931395541438 sqft_living\n",
      "0.0 sqft_living_sqrt\n",
      "0.0 sqft_lot\n",
      "0.0 sqft_lot_sqrt\n",
      "0.0 floors\n",
      "0.0 floors_square\n",
      "0.0 waterfront\n",
      "24750.004585609488 view\n",
      "0.0 condition\n",
      "61749.10309070811 grade\n",
      "0.0 sqft_above\n",
      "0.0 sqft_basement\n",
      "-0.0 yr_built\n",
      "0.0 yr_renovated\n"
     ]
    }
   ],
   "source": [
    "for coef,feature in zip(model_all.coef_, all_features):\n",
    "    print(coef,feature)"
   ]
  },
  {
   "cell_type": "code",
   "execution_count": 6,
   "metadata": {},
   "outputs": [
    {
     "data": {
      "text/plain": [
       "array([    0.        ,     0.        ,     0.        ,   134.43931396,\n",
       "           0.        ,     0.        ,     0.        ,     0.        ,\n",
       "           0.        ,     0.        , 24750.00458561,     0.        ,\n",
       "       61749.10309071,     0.        ,     0.        ,    -0.        ,\n",
       "           0.        ])"
      ]
     },
     "execution_count": 6,
     "metadata": {},
     "output_type": "execute_result"
    }
   ],
   "source": [
    "model_all.coef_"
   ]
  },
  {
   "cell_type": "markdown",
   "metadata": {},
   "source": [
    "# validation set to select l1-penelty strength hyperparameter "
   ]
  },
  {
   "cell_type": "code",
   "execution_count": 8,
   "metadata": {},
   "outputs": [],
   "source": [
    "testing = pd.read_csv('wk3_kc_house_test_data.csv', dtype=dtype_dict)\n",
    "training = pd.read_csv('wk3_kc_house_train_data.csv', dtype=dtype_dict)\n",
    "validation = pd.read_csv('wk3_kc_house_valid_data.csv', dtype=dtype_dict)\n",
    "\n",
    "testing['sqft_living_sqrt'] = testing['sqft_living'].apply(sqrt)\n",
    "testing['sqft_lot_sqrt'] = testing['sqft_lot'].apply(sqrt)\n",
    "testing['bedrooms_square'] = testing['bedrooms']*testing['bedrooms']\n",
    "testing['floors_square'] = testing['floors']*testing['floors']\n",
    "\n",
    "training['sqft_living_sqrt'] = training['sqft_living'].apply(sqrt)\n",
    "training['sqft_lot_sqrt'] = training['sqft_lot'].apply(sqrt)\n",
    "training['bedrooms_square'] = training['bedrooms']*training['bedrooms']\n",
    "training['floors_square'] = training['floors']*training['floors']\n",
    "\n",
    "validation['sqft_living_sqrt'] = validation['sqft_living'].apply(sqrt)\n",
    "validation['sqft_lot_sqrt'] = validation['sqft_lot'].apply(sqrt)\n",
    "validation['bedrooms_square'] = validation['bedrooms']*validation['bedrooms']\n",
    "validation['floors_square'] = validation['floors']*validation['floors']"
   ]
  },
  {
   "cell_type": "code",
   "execution_count": 9,
   "metadata": {},
   "outputs": [],
   "source": [
    "l1_penalty = list(map(lambda i: 10**i ,[i/2 for i in range(2,15)] ))"
   ]
  },
  {
   "cell_type": "code",
   "execution_count": 21,
   "metadata": {},
   "outputs": [
    {
     "name": "stdout",
     "output_type": "stream",
     "text": [
      "1.00e+01, 3.98213e+14\n",
      "3.16e+01, 3.99042e+14\n",
      "1.00e+02, 4.29792e+14\n",
      "3.16e+02, 4.63740e+14\n",
      "1.00e+03, 6.45899e+14\n",
      "3.16e+03, 1.22251e+15\n",
      "1.00e+04, 1.22251e+15\n",
      "3.16e+04, 1.22251e+15\n",
      "1.00e+05, 1.22251e+15\n",
      "3.16e+05, 1.22251e+15\n",
      "1.00e+06, 1.22251e+15\n",
      "3.16e+06, 1.22251e+15\n",
      "1.00e+07, 1.22251e+15\n"
     ]
    }
   ],
   "source": [
    "for para in l1_penalty:\n",
    "    model = linear_model.Lasso(alpha= para, normalize=True)\n",
    "    model.fit(training[all_features], training['price'])\n",
    "    pred = model.predict(validation[all_features])\n",
    "    RSS = np.linalg.norm(pred - validation['price'].to_numpy())**2\n",
    "    print('%.2e, %.5e'%(para,RSS))"
   ]
  },
  {
   "cell_type": "code",
   "execution_count": 22,
   "metadata": {},
   "outputs": [],
   "source": [
    "best_l1_penalty = l1_penalty[0]"
   ]
  },
  {
   "cell_type": "code",
   "execution_count": 28,
   "metadata": {},
   "outputs": [
    {
     "name": "stdout",
     "output_type": "stream",
     "text": [
      "1.00e+07, 3.98213e+14\n",
      "[-1.61445628e+04  3.73245384e+02  5.08412433e+04  6.17853560e+02\n",
      " -4.44113549e+04  7.85623065e-01 -7.01194765e+02 -0.00000000e+00\n",
      "  5.01420046e+03  6.19488752e+05  3.80418557e+04  2.49987718e+04\n",
      "  1.28716235e+05  0.00000000e+00  0.00000000e+00 -3.29383118e+03\n",
      "  1.00573209e+01] 1\n"
     ]
    }
   ],
   "source": [
    "model = linear_model.Lasso(alpha= best_l1_penalty, normalize=True)\n",
    "model.fit(training[all_features], training['price'])\n",
    "pred = model.predict(validation[all_features])\n",
    "RSS = np.linalg.norm(pred - validation['price'].to_numpy())**2\n",
    "print('%.2e, %.5e'%(para,RSS))\n",
    "print(model.coef_ , np.count_nonzero(model.intercept_))"
   ]
  },
  {
   "cell_type": "code",
   "execution_count": 30,
   "metadata": {},
   "outputs": [
    {
     "name": "stdout",
     "output_type": "stream",
     "text": [
      "10.0 15\n",
      "14.38449888287663 15\n",
      "20.6913808111479 15\n",
      "29.76351441631318 15\n",
      "42.81332398719393 13\n",
      "61.58482110660264 12\n",
      "88.58667904100822 11\n",
      "127.42749857031335 10\n",
      "183.29807108324357 7\n",
      "263.6650898730358 6\n",
      "379.26901907322497 6\n",
      "545.5594781168514 6\n",
      "784.7599703514607 5\n",
      "1128.8378916846884 3\n",
      "1623.776739188721 3\n",
      "2335.7214690901214 2\n",
      "3359.818286283781 1\n",
      "4832.930238571752 1\n",
      "6951.927961775606 1\n",
      "10000.0 1\n"
     ]
    }
   ],
   "source": [
    "l1_penalty = np.logspace(1,4,num=20)\n",
    "nnz = []\n",
    "for para in l1_penalty:\n",
    "    model = linear_model.Lasso(alpha=para, normalize=True)\n",
    "    model.fit(training[all_features], training['price'])\n",
    "    nnz.append(np.count_nonzero(model.intercept_) + np.count_nonzero(model.coef_))\n",
    "    print( para,  nnz[-1])"
   ]
  },
  {
   "cell_type": "code",
   "execution_count": 37,
   "metadata": {},
   "outputs": [],
   "source": [
    "max_nnz = 7\n",
    "l1_penalty_min = max([l1_penalty[i] for i in range(len(nnz)) if nnz[i] > max_nnz])\n",
    "l1_penalty_max = min([l1_penalty[i] for i in range(len(nnz)) if nnz[i] < max_nnz])"
   ]
  },
  {
   "cell_type": "code",
   "execution_count": 38,
   "metadata": {},
   "outputs": [
    {
     "name": "stdout",
     "output_type": "stream",
     "text": [
      "127.42749857031335 263.6650898730358\n"
     ]
    }
   ],
   "source": [
    "print(l1_penalty_min, l1_penalty_max)"
   ]
  },
  {
   "cell_type": "code",
   "execution_count": 43,
   "metadata": {},
   "outputs": [
    {
     "name": "stdout",
     "output_type": "stream",
     "text": [
      "156.10909673930755 7 440037365263316.5\n",
      "163.2794962815561 7 440777489641605.25\n",
      "170.44989582380464 7 441566698090139.9\n",
      "177.6202953660532 7 442406413188666.3\n",
      "184.79069490830176 7 443296716874315.0\n",
      "191.96109445055032 7 444239780526141.6\n",
      "199.13149399279888 7 445230739842614.2\n"
     ]
    }
   ],
   "source": [
    "l1_penalty = np.linspace(l1_penalty_min, l1_penalty_max, num=20)\n",
    "nnz = []\n",
    "dic = {}\n",
    "for para in l1_penalty:\n",
    "    model = linear_model.Lasso(alpha=para, normalize=True)\n",
    "    model.fit(training[all_features], training['price'])\n",
    "    nnz = np.count_nonzero(model.intercept_) + np.count_nonzero(model.coef_)\n",
    "    if nnz == max_nnz:\n",
    "        pred = model.predict(validation[all_features])\n",
    "        rss = (np.linalg.norm(validation['price'].to_numpy() - pred) **2)\n",
    "        dic[para] = rss\n",
    "        print( para,  nnz , rss)"
   ]
  },
  {
   "cell_type": "code",
   "execution_count": 44,
   "metadata": {},
   "outputs": [
    {
     "name": "stdout",
     "output_type": "stream",
     "text": [
      "156.10909673930755 4.40037e+14\n",
      "163.2794962815561 4.40777e+14\n",
      "170.44989582380464 4.41567e+14\n",
      "177.6202953660532 4.42406e+14\n",
      "184.79069490830176 4.43297e+14\n",
      "191.96109445055032 4.44240e+14\n",
      "199.13149399279888 4.45231e+14\n"
     ]
    }
   ],
   "source": [
    "for para in dic:\n",
    "    print(para,  '%.5e'%dic[para])"
   ]
  },
  {
   "cell_type": "code",
   "execution_count": 56,
   "metadata": {},
   "outputs": [
    {
     "name": "stdout",
     "output_type": "stream",
     "text": [
      "156.10909673930755 7 440037365263316.5\n",
      "bathrooms 10610.890284398312\n",
      "sqft_living 163.3802516476289\n",
      "waterfront 506451.6871148493\n",
      "view 41960.04355485289\n",
      "grade 116253.55369970748\n",
      "yr_built -2612.2348803574882\n"
     ]
    }
   ],
   "source": [
    "para = l1_penalty[4]\n",
    "model = linear_model.Lasso(alpha=para, normalize=True)\n",
    "model.fit(training[all_features], training['price'])\n",
    "nnz = np.count_nonzero(model.intercept_) + np.count_nonzero(model.coef_)\n",
    "if nnz == max_nnz:\n",
    "    pred = model.predict(validation[all_features])\n",
    "    rss = (np.linalg.norm(validation['price'].to_numpy() - pred) **2)\n",
    "    dic[para] = rss\n",
    "    print( para,  nnz , rss)\n",
    "for feature, coef in zip(all_features, model.coef_):\n",
    "    if coef != 0:\n",
    "        print(feature, coef)"
   ]
  },
  {
   "cell_type": "code",
   "execution_count": null,
   "metadata": {},
   "outputs": [],
   "source": []
  }
 ],
 "metadata": {
  "kernelspec": {
   "display_name": "Python 3",
   "language": "python",
   "name": "python3"
  },
  "language_info": {
   "codemirror_mode": {
    "name": "ipython",
    "version": 3
   },
   "file_extension": ".py",
   "mimetype": "text/x-python",
   "name": "python",
   "nbconvert_exporter": "python",
   "pygments_lexer": "ipython3",
   "version": "3.7.7"
  }
 },
 "nbformat": 4,
 "nbformat_minor": 4
}
