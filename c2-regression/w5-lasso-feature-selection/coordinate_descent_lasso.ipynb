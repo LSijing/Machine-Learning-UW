{
 "cells": [
  {
   "cell_type": "code",
   "execution_count": 1,
   "metadata": {},
   "outputs": [],
   "source": [
    "import pandas as pd\n",
    "import numpy as np\n",
    "import matplotlib.pyplot as plt\n",
    "dtype_dict = {'bathrooms':float, 'waterfront':int, 'sqft_above':int, 'sqft_living15':float, 'grade':int, \n",
    "              'yr_renovated':int, 'price':float, 'bedrooms':float, 'zipcode':str, 'long':float, \n",
    "              'sqft_lot15':float, 'sqft_living':float, 'floors':str, 'condition':int, 'lat':float, 'date':str, \n",
    "              'sqft_basement':int, 'yr_built':int, 'id':str, 'sqft_lot':int, 'view':int}\n",
    "training = pd.read_csv('kc_house_train_data.csv')\n",
    "test = pd.read_csv('kc_house_test_data.csv')\n",
    "data = pd.read_csv('kc_house_data2.csv')"
   ]
  },
  {
   "cell_type": "code",
   "execution_count": 2,
   "metadata": {},
   "outputs": [],
   "source": [
    "def get_numpy_data(data_frame, features:list, output:str):\n",
    "    data['constant'] = 1\n",
    "    fea = ['constant']\n",
    "    fea.extend(features)\n",
    "    x_matrix = data[fea].to_numpy()\n",
    "    y_vector = data[output].to_numpy()\n",
    "    return x_matrix, y_vector"
   ]
  },
  {
   "cell_type": "code",
   "execution_count": 3,
   "metadata": {},
   "outputs": [],
   "source": [
    "def predict_output(x_matrix, weights):\n",
    "    return x_matrix @ weights"
   ]
  },
  {
   "cell_type": "code",
   "execution_count": 4,
   "metadata": {},
   "outputs": [],
   "source": [
    "def normalize_features(feature_matrix):\n",
    "    norms = np.linalg.norm(feature_matrix, axis=0)\n",
    "    normalized = feature_matrix / norms\n",
    "    return normalized, norms"
   ]
  },
  {
   "cell_type": "markdown",
   "metadata": {},
   "source": [
    "# effect of l1-penalty"
   ]
  },
  {
   "cell_type": "code",
   "execution_count": 5,
   "metadata": {},
   "outputs": [
    {
     "name": "stdout",
     "output_type": "stream",
     "text": [
      "[79400300.01452291, 87939470.82325175, 80966698.66623946]\n"
     ]
    }
   ],
   "source": [
    "feature_matrix, output = get_numpy_data(data, ['sqft_living','bedrooms'], 'price')\n",
    "normalized_feature_matrix, norms = normalize_features(feature_matrix)\n",
    "ini_weights = np.array([1.0, 4.0, 1.0])\n",
    "pred = predict_output(normalized_feature_matrix, ini_weights)\n",
    "rho = []\n",
    "for i in range(len(ini_weights)):\n",
    "    rho.append((output - pred + ini_weights[i]*normalized_feature_matrix[:,i]) @ normalized_feature_matrix[:,i])\n",
    "print(rho)"
   ]
  },
  {
   "cell_type": "code",
   "execution_count": 6,
   "metadata": {},
   "outputs": [
    {
     "name": "stdout",
     "output_type": "stream",
     "text": [
      "164000000.0\n",
      "173000000.0\n",
      "190000000.0\n",
      "230000000.0\n"
     ]
    }
   ],
   "source": [
    "lam = [1.4e8, 1.64e8, 1.73e8, 1.9e8, 2.3e8]\n",
    "for l in lam:\n",
    "    if abs(rho[1]) > l/2 and abs(rho[2]) <= l/2:\n",
    "        print(l)\n",
    "for l in lam:\n",
    "    if abs(rho[1]) <= l/2 and abs(rho[2]) <= l/2:\n",
    "        print(l)"
   ]
  },
  {
   "cell_type": "markdown",
   "metadata": {},
   "source": [
    "# single coordinate descent step"
   ]
  },
  {
   "cell_type": "code",
   "execution_count": 7,
   "metadata": {},
   "outputs": [],
   "source": [
    "def lasso_coo_descent_step(j, feature_matrix, output, weights, l1_penalty):\n",
    "    \"\"\"\n",
    "    update j-th weight, corresponding to j-th column of feature, i.e. [:,j]\n",
    "    \"\"\"\n",
    "    pred = predict_output(feature_matrix, weights)\n",
    "    rhoj = (output - pred + weights[j]*feature_matrix[:,j]) @ feature_matrix[:,j]\n",
    "    if j == 0:\n",
    "        weightj = rhoj\n",
    "    else:\n",
    "        abs_value = max(abs(rhoj) - l1_penalty/2, 0)\n",
    "        weightj = abs_value if rhoj > 0 else -abs_value\n",
    "    return weightj"
   ]
  },
  {
   "cell_type": "code",
   "execution_count": 8,
   "metadata": {},
   "outputs": [
    {
     "data": {
      "text/plain": [
       "0.4255588466910251"
      ]
     },
     "execution_count": 8,
     "metadata": {},
     "output_type": "execute_result"
    }
   ],
   "source": [
    "import math\n",
    "lasso_coo_descent_step(1, np.array([[3./math.sqrt(13),1./math.sqrt(10)],\n",
    "                   [2./math.sqrt(13),3./math.sqrt(10)]]), np.array([1., 1.]), np.array([1., 4.]), 0.1)"
   ]
  },
  {
   "cell_type": "markdown",
   "metadata": {},
   "source": [
    "# coordinate descent cycle"
   ]
  },
  {
   "cell_type": "code",
   "execution_count": 15,
   "metadata": {},
   "outputs": [],
   "source": [
    "def lasso_coo_descent_cycle(feature_matrix, output, ini_weights, l1_penalty, tol):\n",
    "    n = len(ini_weights)\n",
    "    weights = ini_weights\n",
    "    while True:\n",
    "        change = np.zeros(n)\n",
    "        for j in range(n):\n",
    "            new_weight = lasso_coo_descent_step(j, feature_matrix, output, weights, l1_penalty)\n",
    "            change[j] = abs(new_weight - weights[j])\n",
    "            weights[j] = new_weight\n",
    "        if np.max(change) <= tol:\n",
    "            break\n",
    "    return weights"
   ]
  },
  {
   "cell_type": "code",
   "execution_count": 19,
   "metadata": {},
   "outputs": [
    {
     "name": "stdout",
     "output_type": "stream",
     "text": [
      "1.63e+15\n",
      "[21624997.95951909 63157247.20788956        0.        ]\n"
     ]
    }
   ],
   "source": [
    "coefs = lasso_coo_descent_cycle(normalized_feature_matrix, output, np.zeros(3), 1e7, 1.0)\n",
    "pred = predict_output(normalized_feature_matrix, coefs)\n",
    "print('%.2e'%(np.linalg.norm(output - pred) ** 2))\n",
    "print(coefs)"
   ]
  },
  {
   "cell_type": "markdown",
   "metadata": {},
   "source": [
    "# Evaluating lasso"
   ]
  },
  {
   "cell_type": "code",
   "execution_count": 24,
   "metadata": {},
   "outputs": [],
   "source": [
    "feature_list = ['bedrooms', 'bathrooms', 'sqft_living', 'sqft_lot', 'floors', 'waterfront', \n",
    "                          'view', 'condition', 'grade', 'sqft_above', 'sqft_basement', 'yr_built', 'yr_renovated']\n",
    "feature_matrix, output = get_numpy_data(training, feature_list, 'price')\n",
    "normalized_feature_matrix, norms = normalize_features(feature_matrix)"
   ]
  },
  {
   "cell_type": "code",
   "execution_count": 26,
   "metadata": {},
   "outputs": [],
   "source": [
    "weight1e7 = lasso_coo_descent_cycle(normalized_feature_matrix, output, np.zeros(len(norms)), 1e7, 1.0)"
   ]
  },
  {
   "cell_type": "code",
   "execution_count": 31,
   "metadata": {},
   "outputs": [
    {
     "name": "stdout",
     "output_type": "stream",
     "text": [
      "constant 24964802.80942066\n",
      "bedrooms 0.0\n",
      "bathrooms 0.0\n",
      "sqft_living 56397533.51865719\n",
      "sqft_lot 0.0\n",
      "floors 0.0\n",
      "waterfront 3689656.5671645254\n",
      "view 8630251.047030006\n",
      "condition 0.0\n",
      "grade 0.0\n",
      "sqft_above 0.0\n",
      "sqft_basement 0.0\n",
      "yr_built 0.0\n",
      "yr_renovated 0.0\n"
     ]
    }
   ],
   "source": [
    "feature_list.insert(0,'constant')\n",
    "for feature, coef in zip(feature_list,weight1e7):\n",
    "    print(feature, coef)"
   ]
  },
  {
   "cell_type": "code",
   "execution_count": 33,
   "metadata": {},
   "outputs": [
    {
     "name": "stdout",
     "output_type": "stream",
     "text": [
      "constant 79400304.63764462\n",
      "bedrooms 0.0\n",
      "bathrooms 0.0\n",
      "sqft_living 0.0\n",
      "sqft_lot 0.0\n",
      "floors 0.0\n",
      "waterfront 0.0\n",
      "view 0.0\n",
      "condition 0.0\n",
      "grade 0.0\n",
      "sqft_above 0.0\n",
      "sqft_basement 0.0\n",
      "yr_built 0.0\n",
      "yr_renovated 0.0\n"
     ]
    }
   ],
   "source": [
    "weight1e8 = lasso_coo_descent_cycle(normalized_feature_matrix, output, np.zeros(len(norms)), 1e8, 1.0)\n",
    "for feature, coef in zip(feature_list,weight1e8):\n",
    "    print(feature, coef)"
   ]
  },
  {
   "cell_type": "code",
   "execution_count": 35,
   "metadata": {},
   "outputs": [
    {
     "name": "stdout",
     "output_type": "stream",
     "text": [
      "constant 88587182.82932705\n",
      "bedrooms -21715665.19372022\n",
      "bathrooms 12996574.12832279\n",
      "sqft_living 107727552.02386698\n",
      "sqft_lot -2423452.287012554\n",
      "floors -3628590.8002165537\n",
      "waterfront 6944215.974362667\n",
      "view 8272975.157013026\n",
      "condition 6733836.673536284\n",
      "grade 18656166.722223114\n",
      "sqft_above -21903168.087684356\n",
      "sqft_basement -6998131.477065349\n",
      "yr_built -99896102.00648671\n",
      "yr_renovated 3274352.3859126647\n"
     ]
    }
   ],
   "source": [
    "weight1e4 = lasso_coo_descent_cycle(normalized_feature_matrix, output, np.zeros(len(norms)), 1e4, 5e5)\n",
    "for feature, coef in zip(feature_list,weight1e4):\n",
    "    print(feature, coef)"
   ]
  },
  {
   "cell_type": "code",
   "execution_count": 40,
   "metadata": {},
   "outputs": [
    {
     "name": "stdout",
     "output_type": "stream",
     "text": [
      "1211008049702451.2\n",
      "1476340533220514.5\n",
      "2912916761921299.5\n"
     ]
    }
   ],
   "source": [
    "feature_list.remove('constant')\n",
    "test_feature_matrix, test_output = get_numpy_data(test, feature_list, 'price')\n",
    "lst = [weight1e4, weight1e7, weight1e8]\n",
    "for w in lst:\n",
    "    original_weights = w / norms\n",
    "    pred = predict_output(test_feature_matrix, original_weights)\n",
    "    rss = np.linalg.norm(test_output - pred) ** 2\n",
    "    print(rss)\n"
   ]
  },
  {
   "cell_type": "code",
   "execution_count": null,
   "metadata": {},
   "outputs": [],
   "source": []
  }
 ],
 "metadata": {
  "kernelspec": {
   "display_name": "Python 3",
   "language": "python",
   "name": "python3"
  },
  "language_info": {
   "codemirror_mode": {
    "name": "ipython",
    "version": 3
   },
   "file_extension": ".py",
   "mimetype": "text/x-python",
   "name": "python",
   "nbconvert_exporter": "python",
   "pygments_lexer": "ipython3",
   "version": "3.7.7"
  }
 },
 "nbformat": 4,
 "nbformat_minor": 4
}
