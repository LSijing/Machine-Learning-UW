{
 "cells": [
  {
   "cell_type": "markdown",
   "metadata": {},
   "source": [
    "# load data set"
   ]
  },
  {
   "cell_type": "code",
   "execution_count": 1,
   "metadata": {},
   "outputs": [],
   "source": [
    "import pandas as pd\n",
    "import numpy as np"
   ]
  },
  {
   "cell_type": "code",
   "execution_count": 2,
   "metadata": {},
   "outputs": [],
   "source": [
    "products = pd.read_csv('amazon_baby_subset.csv')"
   ]
  },
  {
   "cell_type": "code",
   "execution_count": 3,
   "metadata": {},
   "outputs": [
    {
     "data": {
      "text/plain": [
       "Index(['name', 'review', 'rating', 'sentiment'], dtype='object')"
      ]
     },
     "execution_count": 3,
     "metadata": {},
     "output_type": "execute_result"
    }
   ],
   "source": [
    "products.columns"
   ]
  },
  {
   "cell_type": "code",
   "execution_count": 4,
   "metadata": {},
   "outputs": [
    {
     "data": {
      "text/plain": [
       "0    Stop Pacifier Sucking without tears with Thumb...\n",
       "1      Nature's Lullabies Second Year Sticker Calendar\n",
       "2      Nature's Lullabies Second Year Sticker Calendar\n",
       "3                          Lamaze Peekaboo, I Love You\n",
       "4    SoftPlay Peek-A-Boo Where's Elmo A Children's ...\n",
       "5                            Our Baby Girl Memory Book\n",
       "6    Hunnt&reg; Falling Flowers and Birds Kids Nurs...\n",
       "7    Blessed By Pope Benedict XVI Divine Mercy Full...\n",
       "8    Cloth Diaper Pins Stainless Steel Traditional ...\n",
       "9    Cloth Diaper Pins Stainless Steel Traditional ...\n",
       "Name: name, dtype: object"
      ]
     },
     "execution_count": 4,
     "metadata": {},
     "output_type": "execute_result"
    }
   ],
   "source": [
    "products['name'].head(10)"
   ]
  },
  {
   "cell_type": "code",
   "execution_count": 5,
   "metadata": {},
   "outputs": [
    {
     "data": {
      "text/html": [
       "<div>\n",
       "<style scoped>\n",
       "    .dataframe tbody tr th:only-of-type {\n",
       "        vertical-align: middle;\n",
       "    }\n",
       "\n",
       "    .dataframe tbody tr th {\n",
       "        vertical-align: top;\n",
       "    }\n",
       "\n",
       "    .dataframe thead th {\n",
       "        text-align: right;\n",
       "    }\n",
       "</style>\n",
       "<table border=\"1\" class=\"dataframe\">\n",
       "  <thead>\n",
       "    <tr style=\"text-align: right;\">\n",
       "      <th></th>\n",
       "      <th>rating</th>\n",
       "      <th>sentiment</th>\n",
       "    </tr>\n",
       "  </thead>\n",
       "  <tbody>\n",
       "    <tr>\n",
       "      <th>53062</th>\n",
       "      <td>2</td>\n",
       "      <td>-1</td>\n",
       "    </tr>\n",
       "    <tr>\n",
       "      <th>53063</th>\n",
       "      <td>1</td>\n",
       "      <td>-1</td>\n",
       "    </tr>\n",
       "    <tr>\n",
       "      <th>53064</th>\n",
       "      <td>1</td>\n",
       "      <td>-1</td>\n",
       "    </tr>\n",
       "    <tr>\n",
       "      <th>53065</th>\n",
       "      <td>2</td>\n",
       "      <td>-1</td>\n",
       "    </tr>\n",
       "    <tr>\n",
       "      <th>53066</th>\n",
       "      <td>1</td>\n",
       "      <td>-1</td>\n",
       "    </tr>\n",
       "    <tr>\n",
       "      <th>53067</th>\n",
       "      <td>1</td>\n",
       "      <td>-1</td>\n",
       "    </tr>\n",
       "    <tr>\n",
       "      <th>53068</th>\n",
       "      <td>1</td>\n",
       "      <td>-1</td>\n",
       "    </tr>\n",
       "    <tr>\n",
       "      <th>53069</th>\n",
       "      <td>1</td>\n",
       "      <td>-1</td>\n",
       "    </tr>\n",
       "    <tr>\n",
       "      <th>53070</th>\n",
       "      <td>2</td>\n",
       "      <td>-1</td>\n",
       "    </tr>\n",
       "    <tr>\n",
       "      <th>53071</th>\n",
       "      <td>2</td>\n",
       "      <td>-1</td>\n",
       "    </tr>\n",
       "  </tbody>\n",
       "</table>\n",
       "</div>"
      ],
      "text/plain": [
       "       rating  sentiment\n",
       "53062       2         -1\n",
       "53063       1         -1\n",
       "53064       1         -1\n",
       "53065       2         -1\n",
       "53066       1         -1\n",
       "53067       1         -1\n",
       "53068       1         -1\n",
       "53069       1         -1\n",
       "53070       2         -1\n",
       "53071       2         -1"
      ]
     },
     "execution_count": 5,
     "metadata": {},
     "output_type": "execute_result"
    }
   ],
   "source": [
    "products[['rating','sentiment']].tail(10)"
   ]
  },
  {
   "cell_type": "code",
   "execution_count": 6,
   "metadata": {},
   "outputs": [
    {
     "name": "stdout",
     "output_type": "stream",
     "text": [
      "positive reviews: 26579.0 negative reviews: 26493.0 in totla 53072\n"
     ]
    }
   ],
   "source": [
    "num = 0\n",
    "for idx in products.index:\n",
    "    num += 1 if products.iloc[idx]['sentiment'] > 0 else -1\n",
    "print('positive reviews:',(num+len(products))/2,'negative reviews:',(len(products)-num)/2, 'in totla',products.shape[0])"
   ]
  },
  {
   "cell_type": "markdown",
   "metadata": {},
   "source": [
    "# test cleaning"
   ]
  },
  {
   "cell_type": "code",
   "execution_count": 7,
   "metadata": {},
   "outputs": [
    {
     "name": "stdout",
     "output_type": "stream",
     "text": [
      "['baby', 'one', 'great', 'love', 'use', 'would', 'like', 'easy', 'little', 'seat', 'old', 'well', 'get', 'also', 'really', 'son', 'time', 'bought', 'product', 'good', 'daughter', 'much', 'loves', 'stroller', 'put', 'months', 'car', 'still', 'back', 'used', 'recommend', 'first', 'even', 'perfect', 'nice', 'bag', 'two', 'using', 'got', 'fit', 'around', 'diaper', 'enough', 'month', 'price', 'go', 'could', 'soft', 'since', 'buy', 'room', 'works', 'made', 'child', 'keep', 'size', 'small', 'need', 'year', 'big', 'make', 'take', 'easily', 'think', 'crib', 'clean', 'way', 'quality', 'thing', 'better', 'without', 'set', 'new', 'every', 'cute', 'best', 'bottles', 'work', 'purchased', 'right', 'lot', 'side', 'happy', 'comfortable', 'toy', 'able', 'kids', 'bit', 'night', 'long', 'fits', 'see', 'us', 'another', 'play', 'day', 'money', 'monitor', 'tried', 'thought', 'never', 'item', 'hard', 'plastic', 'however', 'disappointed', 'reviews', 'something', 'going', 'pump', 'bottle', 'cup', 'waste', 'return', 'amazon', 'different', 'top', 'want', 'problem', 'know', 'water', 'try', 'received', 'sure', 'times', 'chair', 'find', 'hold', 'gate', 'open', 'bottom', 'away', 'actually', 'cheap', 'worked', 'getting', 'ordered', 'came', 'milk', 'bad', 'part', 'worth', 'found', 'cover', 'many', 'design', 'looking', 'weeks', 'say', 'wanted', 'look', 'place', 'purchase', 'looks', 'second', 'piece', 'box', 'pretty', 'trying', 'difficult', 'together', 'though', 'give', 'started', 'anything', 'last', 'company', 'come', 'returned', 'maybe', 'took', 'broke', 'makes', 'stay', 'instead', 'idea', 'head', 'said', 'less', 'went', 'working', 'high', 'unit', 'seems', 'picture', 'completely', 'wish', 'buying', 'babies', 'won', 'tub', 'almost', 'either'] 193\n"
     ]
    }
   ],
   "source": [
    "import json\n",
    "with open('important_words.json', 'r') as f:\n",
    "    important_words = json.loads(f.read())\n",
    "print(important_words, len(important_words))"
   ]
  },
  {
   "cell_type": "code",
   "execution_count": 8,
   "metadata": {},
   "outputs": [],
   "source": [
    "def remove_punctuation(text):\n",
    "    import string\n",
    "    text = text.str.replace('[^\\w\\s]', '')\n",
    "    return text\n"
   ]
  },
  {
   "cell_type": "code",
   "execution_count": 9,
   "metadata": {},
   "outputs": [
    {
     "data": {
      "text/plain": [
       "Index(['name', 'review', 'rating', 'sentiment', 'review_clean'], dtype='object')"
      ]
     },
     "execution_count": 9,
     "metadata": {},
     "output_type": "execute_result"
    }
   ],
   "source": [
    "products = products.fillna({'review':''})\n",
    "products['review_clean'] = remove_punctuation(products['review'])\n",
    "products.columns"
   ]
  },
  {
   "cell_type": "code",
   "execution_count": 10,
   "metadata": {},
   "outputs": [],
   "source": [
    "for word in important_words:\n",
    "    products[word] = products['review_clean'].apply(lambda s : float(s.split().count(word)))"
   ]
  },
  {
   "cell_type": "code",
   "execution_count": 11,
   "metadata": {},
   "outputs": [
    {
     "name": "stdout",
     "output_type": "stream",
     "text": [
      "0 (53072, 198)\n"
     ]
    }
   ],
   "source": [
    "num = 0\n",
    "# check nan is filled\n",
    "for i in products['review_clean'].index:\n",
    "    if not isinstance(products.iloc[i]['review_clean'],str):\n",
    "        print(products.iloc[i]['review_clean'])\n",
    "        num += 1\n",
    "print(num, products.shape)"
   ]
  },
  {
   "cell_type": "code",
   "execution_count": 12,
   "metadata": {},
   "outputs": [
    {
     "name": "stdout",
     "output_type": "stream",
     "text": [
      "2955\n"
     ]
    }
   ],
   "source": [
    "products['contains_perfect'] = products['perfect'] > 0\n",
    "print(sum(products['contains_perfect']))"
   ]
  },
  {
   "cell_type": "markdown",
   "metadata": {},
   "source": [
    "# convert data to numpy array"
   ]
  },
  {
   "cell_type": "code",
   "execution_count": 13,
   "metadata": {},
   "outputs": [
    {
     "name": "stdout",
     "output_type": "stream",
     "text": [
      "0.23.0\n"
     ]
    }
   ],
   "source": [
    "print(pd.__version__)"
   ]
  },
  {
   "cell_type": "code",
   "execution_count": 14,
   "metadata": {},
   "outputs": [],
   "source": [
    "def get_numpy_data(dataframe, features, label):\n",
    "    dataframe['constant'] = 1\n",
    "    features = ['constant'] + features\n",
    "    feature_matrix = dataframe[features].values\n",
    "    label_array = dataframe[label].values\n",
    "    return feature_matrix, label_array"
   ]
  },
  {
   "cell_type": "code",
   "execution_count": 15,
   "metadata": {},
   "outputs": [
    {
     "name": "stdout",
     "output_type": "stream",
     "text": [
      "(53072, 194) (53072,)\n"
     ]
    }
   ],
   "source": [
    "feature_matrix,labels = get_numpy_data(products, important_words, 'sentiment')\n",
    "print(feature_matrix.shape, labels.shape)"
   ]
  },
  {
   "cell_type": "markdown",
   "metadata": {},
   "source": [
    "# compute conditional probability using sigmoid function"
   ]
  },
  {
   "cell_type": "code",
   "execution_count": 16,
   "metadata": {},
   "outputs": [],
   "source": [
    "def predict_probability(feature_matrix, coefficients):\n",
    "    score = np.dot(feature_matrix,coefficients)\n",
    "    predictions = 1/(1+np.exp(-score))\n",
    "    return predictions"
   ]
  },
  {
   "cell_type": "code",
   "execution_count": 17,
   "metadata": {},
   "outputs": [],
   "source": [
    "def feature_derivative(errors, feature):\n",
    "    return np.dot(errors, feature)"
   ]
  },
  {
   "cell_type": "code",
   "execution_count": 18,
   "metadata": {},
   "outputs": [],
   "source": [
    "def compute_log_likelihood(feature_matrix, labels, coefficients):\n",
    "    indicator = (labels==+1)\n",
    "    scores = np.dot(feature_matrix, coefficients)\n",
    "    lp1 = np.sum((indicator-1)*scores - np.log(1. + np.exp(-scores)))\n",
    "    \n",
    "    pbar = 1/(1+np.exp(-scores))\n",
    "    lp2 = np.sum(indicator *np.log(pbar) +(1-indicator)*np.log(1-pbar) )\n",
    "    return lp1"
   ]
  },
  {
   "cell_type": "code",
   "execution_count": 19,
   "metadata": {},
   "outputs": [],
   "source": [
    "def logistic_regression_mle(feature_matrix, labels, initial_coefficients, step_size, max_iter):\n",
    "    coef = np.array(initial_coefficients, dtype=float)\n",
    "    d = coef.shape[0]\n",
    "    indicator = (labels == 1).astype(float)\n",
    "    print(feature_matrix.dtype, indicator.dtype, coef.dtype)\n",
    "    for itr in range(max_iter):\n",
    "        pred = predict_probability(feature_matrix, coef)\n",
    "        errors = indicator - pred\n",
    "        for j in range(d):\n",
    "            coef[j] += step_size * feature_derivative(errors, feature_matrix[:,j])\n",
    "#             print(np.dot(errors, feature_matrix[:,j]))\n",
    "    # Checking whether log likelihood is increasing\n",
    "        if itr <= 15 or (itr <= 100 and itr % 10 == 0) or (itr <= 1000 and itr % 100 == 0) or (itr <= 10000 and itr % 1000 == 0) or itr % 10000 == 0:\n",
    "            lp = compute_log_likelihood(feature_matrix, labels, coef)\n",
    "            print ('iteration %*d: log likelihood of observed labels = %.8f' %(int(np.ceil(np.log10(max_iter))), itr, lp))\n",
    "    return coef"
   ]
  },
  {
   "cell_type": "code",
   "execution_count": 20,
   "metadata": {},
   "outputs": [
    {
     "name": "stdout",
     "output_type": "stream",
     "text": [
      "float64 float64 float64\n",
      "iteration   0: log likelihood of observed labels = -36780.91765822\n",
      "iteration   1: log likelihood of observed labels = -36775.13429407\n",
      "iteration   2: log likelihood of observed labels = -36769.35705617\n",
      "iteration   3: log likelihood of observed labels = -36763.58592657\n",
      "iteration   4: log likelihood of observed labels = -36757.82088750\n",
      "iteration   5: log likelihood of observed labels = -36752.06192130\n",
      "iteration   6: log likelihood of observed labels = -36746.30901047\n",
      "iteration   7: log likelihood of observed labels = -36740.56213761\n",
      "iteration   8: log likelihood of observed labels = -36734.82128550\n",
      "iteration   9: log likelihood of observed labels = -36729.08643701\n",
      "iteration  10: log likelihood of observed labels = -36723.35757516\n",
      "iteration  11: log likelihood of observed labels = -36717.63468309\n",
      "iteration  12: log likelihood of observed labels = -36711.91774409\n",
      "iteration  13: log likelihood of observed labels = -36706.20674154\n",
      "iteration  14: log likelihood of observed labels = -36700.50165898\n",
      "iteration  15: log likelihood of observed labels = -36694.80248005\n",
      "iteration  20: log likelihood of observed labels = -36666.39457610\n",
      "iteration  30: log likelihood of observed labels = -36610.01247696\n",
      "iteration  40: log likelihood of observed labels = -36554.19624473\n",
      "iteration  50: log likelihood of observed labels = -36498.93188224\n",
      "iteration  60: log likelihood of observed labels = -36444.20632505\n",
      "iteration  70: log likelihood of observed labels = -36390.00734922\n",
      "iteration  80: log likelihood of observed labels = -36336.32348885\n",
      "iteration  90: log likelihood of observed labels = -36283.14396237\n",
      "iteration 100: log likelihood of observed labels = -36230.45860670\n",
      "iteration 200: log likelihood of observed labels = -35728.88970846\n",
      "iteration 300: log likelihood of observed labels = -35268.50576440\n"
     ]
    }
   ],
   "source": [
    "coef = logistic_regression_mle(feature_matrix, labels, [0 for _ in range(194)], 1e-7, 301)"
   ]
  },
  {
   "cell_type": "markdown",
   "metadata": {},
   "source": [
    "# predict sentiments"
   ]
  },
  {
   "cell_type": "code",
   "execution_count": 21,
   "metadata": {},
   "outputs": [
    {
     "name": "stdout",
     "output_type": "stream",
     "text": [
      "# positive  25127\n"
     ]
    }
   ],
   "source": [
    "score = np.dot(feature_matrix,coef)\n",
    "num_pos = 0\n",
    "for sco in score:\n",
    "    num_pos += 1 if sco > 0 else 0\n",
    "print('# positive ', num_pos)"
   ]
  },
  {
   "cell_type": "code",
   "execution_count": 25,
   "metadata": {},
   "outputs": [
    {
     "name": "stdout",
     "output_type": "stream",
     "text": [
      "accuracy  0.7518465480856196\n"
     ]
    }
   ],
   "source": [
    "score = np.dot(feature_matrix,coef)\n",
    "correct = 0\n",
    "for sco,label in zip(score,labels):\n",
    "    prd = 1 if sco > 0 else -1\n",
    "    correct += 1 if prd == label else 0\n",
    "print('accuracy ', correct/ labels.shape[0])"
   ]
  },
  {
   "cell_type": "code",
   "execution_count": 26,
   "metadata": {},
   "outputs": [],
   "source": [
    "coefficients = list(coef[1:]) # exclude intercept\n",
    "word_coefficient_tuples = [(word, coefficient) for word, coefficient in zip(important_words, coefficients)]\n",
    "word_coefficient_tuples = sorted(word_coefficient_tuples, key=lambda x:x[1], reverse=True)"
   ]
  },
  {
   "cell_type": "code",
   "execution_count": 27,
   "metadata": {},
   "outputs": [
    {
     "data": {
      "text/plain": [
       "[('great', 0.06654611812696795),\n",
       " ('love', 0.06589085630451576),\n",
       " ('easy', 0.06479467430583866),\n",
       " ('little', 0.04543575641799634),\n",
       " ('loves', 0.044976404990584126),\n",
       " ('well', 0.030134968617416664),\n",
       " ('perfect', 0.02973996481683957),\n",
       " ('old', 0.020077453090480573),\n",
       " ('nice', 0.018408789054742972),\n",
       " ('daughter', 0.017703241856832346)]"
      ]
     },
     "execution_count": 27,
     "metadata": {},
     "output_type": "execute_result"
    }
   ],
   "source": [
    "word_coefficient_tuples[0:10]"
   ]
  },
  {
   "cell_type": "code",
   "execution_count": 28,
   "metadata": {},
   "outputs": [
    {
     "name": "stdout",
     "output_type": "stream",
     "text": [
      "[('would', -0.053860003347359055), ('product', -0.041510960132838635), ('money', -0.038982013325180455), ('work', -0.03306944956701274), ('even', -0.030051149961455727), ('disappointed', -0.02897894895589544), ('get', -0.028711410346220555), ('back', -0.027742584349641455), ('return', -0.026592754205541476), ('monitor', -0.024482031154393426)]\n"
     ]
    }
   ],
   "source": [
    "negarive_words = sorted(word_coefficient_tuples, key=lambda x:x[1], reverse=False)\n",
    "print(negarive_words[0:10])"
   ]
  },
  {
   "cell_type": "code",
   "execution_count": null,
   "metadata": {},
   "outputs": [],
   "source": []
  }
 ],
 "metadata": {
  "kernelspec": {
   "display_name": "Python 3",
   "language": "python",
   "name": "python3"
  },
  "language_info": {
   "codemirror_mode": {
    "name": "ipython",
    "version": 3
   },
   "file_extension": ".py",
   "mimetype": "text/x-python",
   "name": "python",
   "nbconvert_exporter": "python",
   "pygments_lexer": "ipython3",
   "version": "3.6.5"
  }
 },
 "nbformat": 4,
 "nbformat_minor": 2
}
