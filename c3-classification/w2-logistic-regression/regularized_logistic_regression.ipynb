{
 "cells": [
  {
   "cell_type": "markdown",
   "metadata": {},
   "source": [
    "# data preprocessing"
   ]
  },
  {
   "cell_type": "code",
   "execution_count": 1,
   "metadata": {},
   "outputs": [
    {
     "name": "stdout",
     "output_type": "stream",
     "text": [
      "['baby', 'one', 'great', 'love', 'use', 'would', 'like', 'easy', 'little', 'seat', 'old', 'well', 'get', 'also', 'really', 'son', 'time', 'bought', 'product', 'good', 'daughter', 'much', 'loves', 'stroller', 'put', 'months', 'car', 'still', 'back', 'used', 'recommend', 'first', 'even', 'perfect', 'nice', 'bag', 'two', 'using', 'got', 'fit', 'around', 'diaper', 'enough', 'month', 'price', 'go', 'could', 'soft', 'since', 'buy', 'room', 'works', 'made', 'child', 'keep', 'size', 'small', 'need', 'year', 'big', 'make', 'take', 'easily', 'think', 'crib', 'clean', 'way', 'quality', 'thing', 'better', 'without', 'set', 'new', 'every', 'cute', 'best', 'bottles', 'work', 'purchased', 'right', 'lot', 'side', 'happy', 'comfortable', 'toy', 'able', 'kids', 'bit', 'night', 'long', 'fits', 'see', 'us', 'another', 'play', 'day', 'money', 'monitor', 'tried', 'thought', 'never', 'item', 'hard', 'plastic', 'however', 'disappointed', 'reviews', 'something', 'going', 'pump', 'bottle', 'cup', 'waste', 'return', 'amazon', 'different', 'top', 'want', 'problem', 'know', 'water', 'try', 'received', 'sure', 'times', 'chair', 'find', 'hold', 'gate', 'open', 'bottom', 'away', 'actually', 'cheap', 'worked', 'getting', 'ordered', 'came', 'milk', 'bad', 'part', 'worth', 'found', 'cover', 'many', 'design', 'looking', 'weeks', 'say', 'wanted', 'look', 'place', 'purchase', 'looks', 'second', 'piece', 'box', 'pretty', 'trying', 'difficult', 'together', 'though', 'give', 'started', 'anything', 'last', 'company', 'come', 'returned', 'maybe', 'took', 'broke', 'makes', 'stay', 'instead', 'idea', 'head', 'said', 'less', 'went', 'working', 'high', 'unit', 'seems', 'picture', 'completely', 'wish', 'buying', 'babies', 'won', 'tub', 'almost', 'either'] 193\n"
     ]
    }
   ],
   "source": [
    "import pandas as pd\n",
    "import numpy as np\n",
    "products = pd.read_csv('amazon_baby_subset.csv')\n",
    "import json\n",
    "with open('important_words.json', 'r') as f:\n",
    "    important_words = json.loads(f.read())\n",
    "print(important_words, len(important_words))"
   ]
  },
  {
   "cell_type": "code",
   "execution_count": 2,
   "metadata": {},
   "outputs": [],
   "source": [
    "def remove_punctuation(text):\n",
    "    import string\n",
    "    text = text.str.replace('[^\\w\\s]', '')\n",
    "    return text"
   ]
  },
  {
   "cell_type": "code",
   "execution_count": 3,
   "metadata": {},
   "outputs": [
    {
     "data": {
      "text/plain": [
       "Index(['name', 'review', 'rating', 'sentiment', 'review_clean'], dtype='object')"
      ]
     },
     "execution_count": 3,
     "metadata": {},
     "output_type": "execute_result"
    }
   ],
   "source": [
    "products = products.fillna({'review':''})\n",
    "products['review_clean'] = remove_punctuation(products['review'])\n",
    "products.columns"
   ]
  },
  {
   "cell_type": "code",
   "execution_count": 4,
   "metadata": {},
   "outputs": [],
   "source": [
    "for word in important_words:\n",
    "    products[word] = products['review_clean'].apply(lambda s : float(s.split().count(word)))"
   ]
  },
  {
   "cell_type": "markdown",
   "metadata": {},
   "source": [
    "# train validation split"
   ]
  },
  {
   "cell_type": "code",
   "execution_count": 5,
   "metadata": {},
   "outputs": [
    {
     "name": "stdout",
     "output_type": "stream",
     "text": [
      "42361 10711 53072\n"
     ]
    }
   ],
   "source": [
    "with open('module-4-assignment-train-idx.json', 'r') as f:\n",
    "    train_idx = json.loads(f.read())\n",
    "with open('module-4-assignment-validation-idx.json', 'r') as f:\n",
    "    valid_idx = json.loads(f.read())\n",
    "\n",
    "train_data = products.iloc[train_idx]\n",
    "valid_data = products.iloc[valid_idx]\n",
    "print(len(train_data) , len(valid_data), len(products))"
   ]
  },
  {
   "cell_type": "code",
   "execution_count": 6,
   "metadata": {},
   "outputs": [],
   "source": [
    "def get_numpy_data(dataframe, features, label):\n",
    "    dataframe['constant'] = 1\n",
    "    features = ['constant'] + features\n",
    "    feature_matrix = dataframe[features].values\n",
    "    label_array = dataframe[label].values\n",
    "    return feature_matrix, label_array"
   ]
  },
  {
   "cell_type": "code",
   "execution_count": null,
   "metadata": {},
   "outputs": [],
   "source": [
    "feature_matrix_train, sentiment_train = get_numpy_data(train_data, important_words, 'sentiment')\n",
    "feature_matrix_valid, sentiment_valid = get_numpy_data(valid_data, important_words, 'sentiment') \n",
    "print(feature_matrix_train.shape, sentiment_train.shape, feature_matrix_valid.shape, sentiment_valid.shape)"
   ]
  },
  {
   "cell_type": "markdown",
   "metadata": {},
   "source": [
    "# l2 regularized logistic regression blocks"
   ]
  },
  {
   "cell_type": "code",
   "execution_count": 14,
   "metadata": {},
   "outputs": [],
   "source": [
    "def predict_probability(feature_matrix, coefficients):\n",
    "    score = np.dot(feature_matrix,coefficients)\n",
    "    predictions = 1/(1+np.exp(-score))\n",
    "    return predictions"
   ]
  },
  {
   "cell_type": "code",
   "execution_count": 15,
   "metadata": {},
   "outputs": [],
   "source": [
    "def feature_derivative_with_l2(errors, feature, coefficient, l2_penalty, feature_is_constant): \n",
    "    derivative = np.dot(errors, feature)\n",
    "    if not feature_is_constant: \n",
    "        derivative -= 2*l2_penalty*coefficient\n",
    "    return derivative"
   ]
  },
  {
   "cell_type": "code",
   "execution_count": 19,
   "metadata": {},
   "outputs": [],
   "source": [
    "def compute_log_likelihood_with_l2(feature_matrix, labels, coefficients):\n",
    "    indicator = (labels==+1)\n",
    "    scores = np.dot(feature_matrix, coefficients)\n",
    "    lp1 = np.sum((indicator-1)*scores - np.log(1. + np.exp(-scores)))\n",
    "    \n",
    "    pbar = 1/(1+np.exp(-scores))\n",
    "    lp2 = np.sum(indicator *np.log(pbar) +(1-indicator)*np.log(1-pbar) )\n",
    "    return lp1"
   ]
  },
  {
   "cell_type": "code",
   "execution_count": 20,
   "metadata": {},
   "outputs": [],
   "source": [
    "def logistic_regression_with_l2(feature_matrix, labels, initial_coefficients, l2_penalty, step_size, max_iter):\n",
    "    coef = np.array(initial_coefficients, dtype=float)\n",
    "    d = coef.shape[0]\n",
    "    indicator = (labels == 1).astype(float)\n",
    "    for itr in range(max_iter):\n",
    "        pred = predict_probability(feature_matrix, coef)\n",
    "        errors = indicator - pred\n",
    "        for j in range(1,d):\n",
    "            is_constant = True if j == 0 else False\n",
    "            coef[j] += step_size * feature_derivative_with_l2(errors, feature_matrix[:,j], l2_penalty, coef[j], is_constant)\n",
    "    # Checking whether log likelihood is increasing\n",
    "        if itr <= 15 or (itr <= 100 and itr % 10 == 0) or (itr <= 1000 and itr % 100 == 0) or (itr <= 10000 and itr % 1000 == 0) or itr % 10000 == 0:\n",
    "            lp = compute_log_likelihood_with_l2(feature_matrix, labels, coef)\n",
    "            print ('iteration %*d: log likelihood of observed labels = %.8f' %(int(np.ceil(np.log10(max_iter))), itr, lp))\n",
    "    return coef"
   ]
  },
  {
   "cell_type": "markdown",
   "metadata": {},
   "source": [
    "# select l2-penalty in l2-penalized logistic regression"
   ]
  },
  {
   "cell_type": "code",
   "execution_count": null,
   "metadata": {},
   "outputs": [],
   "source": [
    "lam = [0., 4., 10., 1.0e2, 1.0e3, 1.0e5]\n",
    "step_size = 5e-6\n",
    "max_iter = 501\n",
    "coef_sets = []\n",
    "for l2_penalty in lam:\n",
    "    coef = logistic_regression_with_l2(feature_matrix_train, sentiment_train, [0 for _ in range(194)], l2_penalty, step_size, max_iter)\n",
    "    coef_sets.append(coef)"
   ]
  },
  {
   "cell_type": "code",
   "execution_count": 38,
   "metadata": {},
   "outputs": [],
   "source": [
    "word_coefficients_tuples = [(tup[0],list(tup[1:])) for tup in zip(important_words, coef_sets[0][1:], coef_sets[1][1:], coef_sets[2][1:], \n",
    "                                               coef_sets[3][1:], coef_sets[4][1:], coef_sets[5][1:])]"
   ]
  },
  {
   "cell_type": "code",
   "execution_count": 43,
   "metadata": {},
   "outputs": [
    {
     "name": "stdout",
     "output_type": "stream",
     "text": [
      "['love', 'loves', 'easy', 'perfect', 'great']\n",
      "['disappointed', 'money', 'return', 'waste', 'returned']\n"
     ]
    }
   ],
   "source": [
    "most_positive = sorted(word_coefficients_tuples, key=lambda elem:elem[1][0], reverse=True)\n",
    "most_negative = sorted(word_coefficients_tuples, key=lambda elem:elem[1][0])\n",
    "positive_words = []\n",
    "for tuples in most_positive[0:5]:\n",
    "    positive_words.append(tuples[0])\n",
    "negative_words = []\n",
    "for tuples in most_negative[0:5]:\n",
    "    negative_words.append(tuples[0])\n",
    "print(positive_words)\n",
    "print(negative_words)"
   ]
  },
  {
   "cell_type": "code",
   "execution_count": 48,
   "metadata": {},
   "outputs": [],
   "source": [
    "table = {}\n",
    "for item in word_coefficients_tuples:\n",
    "    table[item[0]] = item[1]"
   ]
  },
  {
   "cell_type": "code",
   "execution_count": 52,
   "metadata": {},
   "outputs": [
    {
     "data": {
      "image/png": "[encoded data removed]",
      "text/plain": [
       "<Figure size 720x432 with 1 Axes>"
      ]
     },
     "metadata": {},
     "output_type": "display_data"
    }
   ],
   "source": [
    "import matplotlib.pyplot as plt\n",
    "plt.rcParams['figure.figsize'] = 10, 6\n",
    "\n",
    "def make_coefficient_plot(table, positive_words, negative_words, l2_penalty_list):\n",
    "    cmap_positive = plt.get_cmap('Reds')\n",
    "    cmap_negative = plt.get_cmap('Blues')\n",
    "    \n",
    "    xx = l2_penalty_list\n",
    "    plt.plot(xx, [0.]*len(xx), '--', lw=1, color='k')\n",
    "    \n",
    "    table_positive_words = []\n",
    "    table_negative_words = []\n",
    "    for word in positive_words:\n",
    "#         print(table[word])\n",
    "        table_positive_words.append(table[word])\n",
    "    for word in negative_words:\n",
    "        table_negative_words.append(table[word])\n",
    "    \n",
    "    for i in range(len(positive_words)):\n",
    "        color = cmap_positive(0.8*((i+1)/(len(positive_words)*1.2)+0.15))\n",
    "        plt.plot(xx, table_positive_words[i],\n",
    "                 '-', label=positive_words[i], linewidth=4.0, color=color)\n",
    "        \n",
    "    for i in range(len(negative_words)):\n",
    "        color = cmap_negative(0.8*((i+1)/(len(negative_words)*1.2)+0.15))\n",
    "        plt.plot(xx, table_negative_words[i],\n",
    "                 '-', label=negative_words[i], linewidth=4.0, color=color)\n",
    "        \n",
    "    plt.legend(loc='best', ncol=3, prop={'size':16}, columnspacing=0.5)\n",
    "    plt.axis([1, 1e5, -1, 2])\n",
    "    plt.title('Coefficient path')\n",
    "    plt.xlabel('L2 penalty ($\\lambda$)')\n",
    "    plt.ylabel('Coefficient value')\n",
    "    plt.xscale('log')\n",
    "    plt.rcParams.update({'font.size': 18})\n",
    "    plt.tight_layout()\n",
    "\n",
    "\n",
    "make_coefficient_plot(table, positive_words, negative_words, l2_penalty_list=[0, 4, 10, 1e2, 1e3, 1e5])"
   ]
  },
  {
   "cell_type": "markdown",
   "metadata": {},
   "source": [
    "# compute accuracy"
   ]
  },
  {
   "cell_type": "code",
   "execution_count": 81,
   "metadata": {},
   "outputs": [
    {
     "name": "stdout",
     "output_type": "stream",
     "text": [
      "0.0 0.7856282901725644\n",
      "4.0 0.7855338636953801\n",
      "10.0 0.785463043837492\n",
      "100.0 0.7846840254007224\n",
      "1000.0 0.7741790798139798\n",
      "100000.0 0.7446944123132127\n"
     ]
    }
   ],
   "source": [
    "accuracy = []\n",
    "for l2_penalty, coef in zip(lam, coef_sets):\n",
    "    score = np.dot(feature_matrix_train,coef)\n",
    "    num = np.sum( (score > 0) == (sentiment_train == 1) )\n",
    "    acc = num / score.shape[0]\n",
    "    accuracy.append(acc)\n",
    "    print(l2_penalty, acc)"
   ]
  },
  {
   "cell_type": "code",
   "execution_count": 82,
   "metadata": {},
   "outputs": [
    {
     "name": "stdout",
     "output_type": "stream",
     "text": [
      "0.0 0.7827467089907572\n",
      "4.0 0.7826533470264214\n",
      "10.0 0.7825599850620857\n",
      "100.0 0.7812529175613855\n",
      "1000.0 0.7711698254131267\n",
      "100000.0 0.7441882177201008\n"
     ]
    }
   ],
   "source": [
    "accuracy = []\n",
    "for l2_penalty, coef in zip(lam, coef_sets):\n",
    "    score = np.dot(feature_matrix_valid,coef)\n",
    "    num = np.sum( (score > 0) == (sentiment_valid == 1) )\n",
    "    acc = num / score.shape[0]\n",
    "    accuracy.append(acc)\n",
    "    print(l2_penalty, acc)"
   ]
  },
  {
   "cell_type": "code",
   "execution_count": null,
   "metadata": {},
   "outputs": [],
   "source": []
  }
 ],
 "metadata": {
  "kernelspec": {
   "display_name": "Python 3",
   "language": "python",
   "name": "python3"
  },
  "language_info": {
   "codemirror_mode": {
    "name": "ipython",
    "version": 3
   },
   "file_extension": ".py",
   "mimetype": "text/x-python",
   "name": "python",
   "nbconvert_exporter": "python",
   "pygments_lexer": "ipython3",
   "version": "3.6.5"
  }
 },
 "nbformat": 4,
 "nbformat_minor": 2
}
